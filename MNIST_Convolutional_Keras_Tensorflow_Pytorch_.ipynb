{
  "nbformat": 4,
  "nbformat_minor": 0,
  "metadata": {
    "colab": {
      "name": "MNIST Convolutional - Keras Tensorflow Pytorch-.ipynb",
      "version": "0.3.2",
      "provenance": [],
      "include_colab_link": true
    },
    "kernelspec": {
      "name": "python3",
      "display_name": "Python 3"
    },
    "accelerator": "GPU"
  },
  "cells": [
    {
      "cell_type": "markdown",
      "metadata": {
        "id": "view-in-github",
        "colab_type": "text"
      },
      "source": [
        "<a href=\"https://colab.research.google.com/github/ballmdr/Forex-Prediction-Machine_Learning/blob/master/MNIST_Convolutional_Keras_Tensorflow_Pytorch_.ipynb\" target=\"_parent\"><img src=\"https://colab.research.google.com/assets/colab-badge.svg\" alt=\"Open In Colab\"/></a>"
      ]
    },
    {
      "cell_type": "code",
      "metadata": {
        "id": "6GAv_mZ1I8UF",
        "colab_type": "code",
        "outputId": "264bc59a-4127-401c-9f70-9efd9ed920ec",
        "colab": {
          "base_uri": "https://localhost:8080/",
          "height": 34
        }
      },
      "source": [
        "import tensorflow as tf\n",
        "import keras\n",
        "import numpy as np\n",
        "\n",
        "import matplotlib.pyplot as plt\n",
        "import seaborn as sns\n",
        "sns.set()"
      ],
      "execution_count": 0,
      "outputs": [
        {
          "output_type": "stream",
          "text": [
            "Using TensorFlow backend.\n"
          ],
          "name": "stderr"
        }
      ]
    },
    {
      "cell_type": "code",
      "metadata": {
        "id": "1pvjRDDkJLiq",
        "colab_type": "code",
        "colab": {}
      },
      "source": [
        "(x_train, y_train), (x_test, y_test) = tf.keras.datasets.mnist.load_data()\n",
        "# test keras\n",
        "K = 10\n",
        "x_train = x_train.reshape(-1, 28, 28, 1)\n",
        "x_test = x_test.reshape(-1, 28, 28, 1)\n",
        "\n",
        "y_train = y_train.reshape(-1,1)\n",
        "y_test = y_test.reshape(-1,1)"
      ],
      "execution_count": 0,
      "outputs": []
    },
    {
      "cell_type": "code",
      "metadata": {
        "id": "yh-5PDEKykRd",
        "colab_type": "code",
        "outputId": "06cf8a9b-3a3a-4835-b31e-cccf1dc05b69",
        "colab": {
          "base_uri": "https://localhost:8080/",
          "height": 34
        }
      },
      "source": [
        "x_train.shape"
      ],
      "execution_count": 0,
      "outputs": [
        {
          "output_type": "execute_result",
          "data": {
            "text/plain": [
              "(60000, 28, 28)"
            ]
          },
          "metadata": {
            "tags": []
          },
          "execution_count": 7
        }
      ]
    },
    {
      "cell_type": "code",
      "metadata": {
        "id": "gxQ89ugrylPf",
        "colab_type": "code",
        "outputId": "244706b9-0958-408a-fe8b-daf654b2428c",
        "colab": {
          "base_uri": "https://localhost:8080/",
          "height": 34
        }
      },
      "source": [
        "y_train.min()"
      ],
      "execution_count": 0,
      "outputs": [
        {
          "output_type": "execute_result",
          "data": {
            "text/plain": [
              "0"
            ]
          },
          "metadata": {
            "tags": []
          },
          "execution_count": 8
        }
      ]
    },
    {
      "cell_type": "code",
      "metadata": {
        "id": "fUQR_Algynm1",
        "colab_type": "code",
        "outputId": "fb76b109-c0e7-40b4-d21c-0aaa78c01e3d",
        "colab": {
          "base_uri": "https://localhost:8080/",
          "height": 291
        }
      },
      "source": [
        "plt.imshow(x_train[0])"
      ],
      "execution_count": 0,
      "outputs": [
        {
          "output_type": "execute_result",
          "data": {
            "text/plain": [
              "<matplotlib.image.AxesImage at 0x7f6060dc95c0>"
            ]
          },
          "metadata": {
            "tags": []
          },
          "execution_count": 9
        },
        {
          "output_type": "display_data",
          "data": {
            "image/png": "[encoded data removed]",
            "text/plain": [
              "<Figure size 432x288 with 1 Axes>"
            ]
          },
          "metadata": {
            "tags": []
          }
        }
      ]
    },
    {
      "cell_type": "code",
      "metadata": {
        "id": "3MCataTKy2un",
        "colab_type": "code",
        "outputId": "04816bed-8401-4a2e-9bd0-a7b9f6c1cb9c",
        "colab": {
          "base_uri": "https://localhost:8080/",
          "height": 1020
        }
      },
      "source": [
        "model = keras.Sequential([\n",
        "    keras.layers.Conv2D(filters=32, kernel_size=(5,5), strides=(2,2), padding='same',\n",
        "                        activation='relu', use_bias=True, bias_initializer='zeros',\n",
        "                        kernel_initializer='he_normal', input_shape=(28,28,1)),\n",
        "    keras.layers.MaxPool2D(pool_size=(2,2)),\n",
        "    keras.layers.BatchNormalization(),\n",
        "    keras.layers.Conv2D(filters=64, kernel_size=(5,5), strides=(2,2), padding='same',\n",
        "                        activation='relu', use_bias=True, bias_initializer='zeros',\n",
        "                        kernel_initializer='he_normal'),\n",
        "    keras.layers.BatchNormalization(),\n",
        "    keras.layers.MaxPool2D(pool_size=(2,2)),\n",
        "    keras.layers.Flatten(),\n",
        "    keras.layers.Dense(100, activation='relu'),\n",
        "    keras.layers.Dense(50, activation='relu'),\n",
        "    keras.layers.Dense(10, activation='softmax')\n",
        "])\n",
        "\n",
        "model.compile(loss='sparse_categorical_crossentropy', optimizer='adam', metrics=['accuracy'])\n",
        "r = model.fit(x_train, y_train, validation_data=(x_test, y_test), epochs=10)\n"
      ],
      "execution_count": 0,
      "outputs": [
        {
          "output_type": "stream",
          "text": [
            "W0621 06:41:01.199916 140053554890624 deprecation.py:323] From /usr/local/lib/python3.6/dist-packages/tensorflow/python/ops/math_grad.py:1250: add_dispatch_support.<locals>.wrapper (from tensorflow.python.ops.array_ops) is deprecated and will be removed in a future version.\n",
            "Instructions for updating:\n",
            "Use tf.where in 2.0, which has the same broadcast rule as np.where\n"
          ],
          "name": "stderr"
        },
        {
          "output_type": "stream",
          "text": [
            "Train on 60000 samples, validate on 10000 samples\n",
            "Epoch 1/10\n",
            "60000/60000 [==============================] - 14s 241us/step - loss: 0.1522 - acc: 0.9529 - val_loss: 0.0706 - val_acc: 0.9764\n",
            "Epoch 2/10\n",
            "60000/60000 [==============================] - 10s 172us/step - loss: 0.0539 - acc: 0.9827 - val_loss: 0.0498 - val_acc: 0.9845\n",
            "Epoch 3/10\n",
            "60000/60000 [==============================] - 10s 171us/step - loss: 0.0374 - acc: 0.9876 - val_loss: 0.0483 - val_acc: 0.9841\n",
            "Epoch 4/10\n",
            "60000/60000 [==============================] - 10s 171us/step - loss: 0.0299 - acc: 0.9902 - val_loss: 0.0497 - val_acc: 0.9852\n",
            "Epoch 5/10\n",
            "60000/60000 [==============================] - 10s 171us/step - loss: 0.0238 - acc: 0.9924 - val_loss: 0.0558 - val_acc: 0.9845\n",
            "Epoch 6/10\n",
            "60000/60000 [==============================] - 10s 170us/step - loss: 0.0186 - acc: 0.9939 - val_loss: 0.0502 - val_acc: 0.9871\n",
            "Epoch 7/10\n",
            "60000/60000 [==============================] - 10s 170us/step - loss: 0.0173 - acc: 0.9942 - val_loss: 0.0540 - val_acc: 0.9863\n",
            "Epoch 8/10\n",
            "60000/60000 [==============================] - 10s 170us/step - loss: 0.0132 - acc: 0.9959 - val_loss: 0.0451 - val_acc: 0.9884\n",
            "Epoch 9/10\n",
            "60000/60000 [==============================] - 10s 174us/step - loss: 0.0134 - acc: 0.9956 - val_loss: 0.0555 - val_acc: 0.9861\n",
            "Epoch 10/10\n",
            "60000/60000 [==============================] - 10s 170us/step - loss: 0.0111 - acc: 0.9964 - val_loss: 0.0587 - val_acc: 0.9874\n"
          ],
          "name": "stdout"
        }
      ]
    },
    {
      "cell_type": "code",
      "metadata": {
        "id": "16nD4e532K1s",
        "colab_type": "code",
        "outputId": "4f076fa5-1184-4f69-ec4a-54ac98891e42",
        "colab": {
          "base_uri": "https://localhost:8080/",
          "height": 408
        }
      },
      "source": [
        "tfX = tf.placeholder(dtype=tf.float32, shape=(None, 28, 28, 1))\n",
        "tfY = tf.placeholder(dtype=tf.int32, shape=(None, 1))\n",
        "\n",
        "kernel1 = tf.Variable(tf.random.truncated_normal(shape=(5, 5, 1, 16), stddev=5e-2, dtype=tf.float32))\n",
        "conv1 = tf.nn.conv2d(tfX, filter=kernel1, strides=(2,2), padding='SAME')\n",
        "b1 = tf.Variable(tf.zeros(kernel1.shape[-1]))\n",
        "z1 = tf.nn.relu(conv1 + b1)\n",
        "pool1 = tf.nn.max_pool2d(z1, ksize=(2,2), strides=(1,1), padding='SAME')\n",
        "norm1 = tf.nn.lrn(pool1)\n",
        "\n",
        "kernel2 = tf.Variable(tf.random.truncated_normal(shape=(5,5,1,16), stddev=0.01, dtype=tf.float32))\n",
        "conv2 = tf.nn.conv2d(norm1, filter=kernel2, strides=(2,2), padding='SAME')\n",
        "b2 = tf.Variable(tf.zeros(kernel2.shape[-1]))\n",
        "z2 = tf.nn.relu(conv2 + b2)\n",
        "norm2 = tf.nn.lrn(z2)\n",
        "pool2 = tf.nn.max_pool2d(norm2, ksize=(2,2), strides=(1,1), padding='SAME')\n",
        "\n",
        "flat = tf.layers.Flatten()(pool2)\n",
        "\n",
        "hidden = 5\n",
        "hidden2 = 5\n",
        "hidden3 = 5\n",
        "\n",
        "w3 = tf.Variable(tf.random_normal(shape=(flat.get_shape()[1].value, hidden)))\n",
        "b3 = tf.Variable(tf.zeros(hidden))\n",
        "z3 = tf.nn.relu(tf.matmul(flat, w3) + b3)\n",
        "\n",
        "w4 = tf.Variable(tf.random_normal(shape=(hidden, hidden2)))\n",
        "b4 = tf.Variable(tf.zeros(hidden2))\n",
        "z4 = tf.nn.relu(tf.matmul(z3, w4) + b4)\n",
        "\n",
        "w5 = tf.Variable(tf.random_normal(shape=(hidden2, hidden3)))\n",
        "b5 = tf.Variable(tf.zeros(hidden3))\n",
        "z5 = tf.nn.relu(tf.matmul(z4, w5) + b5)\n",
        "\n",
        "w_output = tf.Variable(tf.random_normal(shape=(hidden3, K)))\n",
        "b_output = tf.Variable(tf.zeros(K))\n",
        "logits = tf.matmul(z5, w_output) + b_output\n",
        "\n",
        "\n",
        "loss = tf.reduce_mean(tf.losses.sparse_softmax_cross_entropy(tfY, logits))\n",
        "\n",
        "train_op = tf.train.AdamOptimizer(0.01).minimize(loss)\n",
        "\n",
        "with tf.Session() as sess:\n",
        "  sess.run(tf.global_variables_initializer())\n",
        "  \n",
        "  for i in range(1000):\n",
        "    _, cost = sess.run([train_op, loss], feed_dict={\n",
        "        tfX: x_train, tfY: y_train\n",
        "    })\n",
        "    \n",
        "    cost_test = sess.run(loss, feed_dict={\n",
        "        tfX: x_test, tfY: y_test\n",
        "    })\n",
        "    \n",
        "    if i % 10 == 0:\n",
        "      print(i, ' train: ', cost, ' test: ', cost_test)\n"
      ],
      "execution_count": 0,
      "outputs": [
        {
          "output_type": "stream",
          "text": [
            "0  train:  2.6412594  test:  3.1893191\n",
            "10  train:  2.3026965  test:  2.3024998\n",
            "20  train:  2.3026323  test:  2.302402\n",
            "30  train:  2.3021486  test:  2.3019009\n",
            "40  train:  2.3016984  test:  2.301475\n",
            "50  train:  2.301461  test:  2.3012624\n",
            "60  train:  2.301339  test:  2.3011563\n",
            "70  train:  2.3012583  test:  2.301088\n",
            "80  train:  2.3012064  test:  2.3010476\n",
            "90  train:  2.3011792  test:  2.301029\n",
            "100  train:  2.301167  test:  2.3010218\n",
            "110  train:  2.301162  test:  2.3010201\n",
            "120  train:  2.3011599  test:  2.3010194\n",
            "130  train:  2.3011594  test:  2.3010194\n",
            "140  train:  2.3011591  test:  2.3010194\n",
            "150  train:  2.301159  test:  2.3010192\n",
            "160  train:  2.3011594  test:  2.3010194\n",
            "170  train:  2.3011594  test:  2.3010192\n",
            "180  train:  2.3011591  test:  2.3010192\n",
            "190  train:  2.3011591  test:  2.3010192\n",
            "200  train:  2.3011594  test:  2.3010192\n",
            "210  train:  2.3011594  test:  2.3010192\n",
            "220  train:  2.301159  test:  2.3010192\n"
          ],
          "name": "stdout"
        }
      ]
    },
    {
      "cell_type": "code",
      "metadata": {
        "id": "mBCkYLywyc0K",
        "colab_type": "code",
        "outputId": "43509453-b8f7-4832-af31-07492bb66294",
        "colab": {
          "base_uri": "https://localhost:8080/",
          "height": 68
        }
      },
      "source": [
        "test_z[0]"
      ],
      "execution_count": 0,
      "outputs": [
        {
          "output_type": "execute_result",
          "data": {
            "text/plain": [
              "array([-3.1160180e+07, -1.3726894e+08,  2.4888931e+08,  1.0481985e+08,\n",
              "        3.5196403e+08,  3.2104360e+07, -9.9220560e+07, -2.6759344e+08,\n",
              "       -1.4448282e+08, -2.0391834e+08], dtype=float32)"
            ]
          },
          "metadata": {
            "tags": []
          },
          "execution_count": 44
        }
      ]
    },
    {
      "cell_type": "code",
      "metadata": {
        "id": "ClBahYEQ6O7D",
        "colab_type": "code",
        "outputId": "34e38f7e-3045-4db3-9e3e-b2a69a3b1856",
        "colab": {
          "base_uri": "https://localhost:8080/",
          "height": 34
        }
      },
      "source": [
        "}test_z[0].shape"
      ],
      "execution_count": 0,
      "outputs": [
        {
          "output_type": "execute_result",
          "data": {
            "text/plain": [
              "(14, 14, 32)"
            ]
          },
          "metadata": {
            "tags": []
          },
          "execution_count": 69
        }
      ]
    },
    {
      "cell_type": "code",
      "metadata": {
        "id": "BwVLvop067QA",
        "colab_type": "code",
        "colab": {}
      },
      "source": [
        ""
      ],
      "execution_count": 0,
      "outputs": []
    }
  ]
}