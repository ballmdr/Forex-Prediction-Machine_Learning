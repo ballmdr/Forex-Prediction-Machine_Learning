{
  "nbformat": 4,
  "nbformat_minor": 0,
  "metadata": {
    "colab": {
      "name": "VAE Tensorflow 2.0 in Pytorch styles.ipynb",
      "version": "0.3.2",
      "provenance": [],
      "include_colab_link": true
    },
    "kernelspec": {
      "name": "python3",
      "display_name": "Python 3"
    },
    "accelerator": "GPU"
  },
  "cells": [
    {
      "cell_type": "markdown",
      "metadata": {
        "id": "view-in-github",
        "colab_type": "text"
      },
      "source": [
        "<a href=\"https://colab.research.google.com/github/ballmdr/Forex-Prediction-Machine_Learning/blob/master/VAE_Tensorflow_2_0_in_Pytorch_styles.ipynb\" target=\"_parent\"><img src=\"https://colab.research.google.com/assets/colab-badge.svg\" alt=\"Open In Colab\"/></a>"
      ]
    },
    {
      "cell_type": "code",
      "metadata": {
        "id": "E67HAON32cTH",
        "colab_type": "code",
        "colab": {
          "base_uri": "https://localhost:8080/",
          "height": 640
        },
        "outputId": "2cdf5061-604a-4fa2-f280-a452422275ea"
      },
      "source": [
        "!pip install tensorflow==2.0.0-rc0 "
      ],
      "execution_count": 1,
      "outputs": [
        {
          "output_type": "stream",
          "text": [
            "Collecting tensorflow==2.0.0-rc0\n",
            "\u001b[?25l  Downloading https://files.pythonhosted.org/packages/fb/4b/77f0965ec7e8a76d3dcd6a22ca8bbd2b934cd92c4ded43fef6bea5ff3258/tensorflow-2.0.0rc0-cp36-cp36m-manylinux2010_x86_64.whl (86.3MB)\n",
            "\u001b[K     |████████████████████████████████| 86.3MB 518kB/s \n",
            "\u001b[?25hRequirement already satisfied: keras-applications>=1.0.8 in /usr/local/lib/python3.6/dist-packages (from tensorflow==2.0.0-rc0) (1.0.8)\n",
            "Requirement already satisfied: absl-py>=0.7.0 in /usr/local/lib/python3.6/dist-packages (from tensorflow==2.0.0-rc0) (0.7.1)\n",
            "Requirement already satisfied: protobuf>=3.6.1 in /usr/local/lib/python3.6/dist-packages (from tensorflow==2.0.0-rc0) (3.7.1)\n",
            "Requirement already satisfied: wrapt>=1.11.1 in /usr/local/lib/python3.6/dist-packages (from tensorflow==2.0.0-rc0) (1.11.2)\n",
            "Requirement already satisfied: termcolor>=1.1.0 in /usr/local/lib/python3.6/dist-packages (from tensorflow==2.0.0-rc0) (1.1.0)\n",
            "Requirement already satisfied: google-pasta>=0.1.6 in /usr/local/lib/python3.6/dist-packages (from tensorflow==2.0.0-rc0) (0.1.7)\n",
            "Requirement already satisfied: grpcio>=1.8.6 in /usr/local/lib/python3.6/dist-packages (from tensorflow==2.0.0-rc0) (1.15.0)\n",
            "Requirement already satisfied: wheel>=0.26 in /usr/local/lib/python3.6/dist-packages (from tensorflow==2.0.0-rc0) (0.33.6)\n",
            "Collecting tf-estimator-nightly<1.14.0.dev2019080602,>=1.14.0.dev2019080601 (from tensorflow==2.0.0-rc0)\n",
            "\u001b[?25l  Downloading https://files.pythonhosted.org/packages/21/28/f2a27a62943d5f041e4a6fd404b2d21cb7c59b2242a4e73b03d9ba166552/tf_estimator_nightly-1.14.0.dev2019080601-py2.py3-none-any.whl (501kB)\n",
            "\u001b[K     |████████████████████████████████| 501kB 23.7MB/s \n",
            "\u001b[?25hRequirement already satisfied: opt-einsum>=2.3.2 in /usr/local/lib/python3.6/dist-packages (from tensorflow==2.0.0-rc0) (3.0.1)\n",
            "Collecting tb-nightly<1.15.0a20190807,>=1.15.0a20190806 (from tensorflow==2.0.0-rc0)\n",
            "\u001b[?25l  Downloading https://files.pythonhosted.org/packages/bc/88/24b5fb7280e74c7cf65bde47c171547fd02afb3840cff41bcbe9270650f5/tb_nightly-1.15.0a20190806-py3-none-any.whl (4.3MB)\n",
            "\u001b[K     |████████████████████████████████| 4.3MB 18.8MB/s \n",
            "\u001b[?25hRequirement already satisfied: keras-preprocessing>=1.0.5 in /usr/local/lib/python3.6/dist-packages (from tensorflow==2.0.0-rc0) (1.1.0)\n",
            "Requirement already satisfied: numpy<2.0,>=1.16.0 in /usr/local/lib/python3.6/dist-packages (from tensorflow==2.0.0-rc0) (1.16.4)\n",
            "Requirement already satisfied: six>=1.10.0 in /usr/local/lib/python3.6/dist-packages (from tensorflow==2.0.0-rc0) (1.12.0)\n",
            "Requirement already satisfied: astor>=0.6.0 in /usr/local/lib/python3.6/dist-packages (from tensorflow==2.0.0-rc0) (0.8.0)\n",
            "Requirement already satisfied: gast>=0.2.0 in /usr/local/lib/python3.6/dist-packages (from tensorflow==2.0.0-rc0) (0.2.2)\n",
            "Requirement already satisfied: h5py in /usr/local/lib/python3.6/dist-packages (from keras-applications>=1.0.8->tensorflow==2.0.0-rc0) (2.8.0)\n",
            "Requirement already satisfied: setuptools in /usr/local/lib/python3.6/dist-packages (from protobuf>=3.6.1->tensorflow==2.0.0-rc0) (41.2.0)\n",
            "Requirement already satisfied: werkzeug>=0.11.15 in /usr/local/lib/python3.6/dist-packages (from tb-nightly<1.15.0a20190807,>=1.15.0a20190806->tensorflow==2.0.0-rc0) (0.15.5)\n",
            "Requirement already satisfied: markdown>=2.6.8 in /usr/local/lib/python3.6/dist-packages (from tb-nightly<1.15.0a20190807,>=1.15.0a20190806->tensorflow==2.0.0-rc0) (3.1.1)\n",
            "Installing collected packages: tf-estimator-nightly, tb-nightly, tensorflow\n",
            "  Found existing installation: tensorflow 1.14.0\n",
            "    Uninstalling tensorflow-1.14.0:\n",
            "      Successfully uninstalled tensorflow-1.14.0\n",
            "Successfully installed tb-nightly-1.15.0a20190806 tensorflow-2.0.0rc0 tf-estimator-nightly-1.14.0.dev2019080601\n"
          ],
          "name": "stdout"
        }
      ]
    },
    {
      "cell_type": "code",
      "metadata": {
        "id": "cetcsMHwS4Xe",
        "colab_type": "code",
        "colab": {
          "base_uri": "https://localhost:8080/",
          "height": 34
        },
        "outputId": "776ea2b8-9af7-461e-dde8-e4f1018e12a0"
      },
      "source": [
        "from tensorflow.keras.datasets import mnist\n",
        "import tensorflow as tf\n",
        "from tensorflow_probability import distributions as tfd\n",
        "import numpy as np\n",
        "import pandas as pd\n",
        "import matplotlib.pyplot as plt\n",
        "\n",
        "print(tf.__version__)"
      ],
      "execution_count": 2,
      "outputs": [
        {
          "output_type": "stream",
          "text": [
            "2.0.0-rc0\n"
          ],
          "name": "stdout"
        }
      ]
    },
    {
      "cell_type": "code",
      "metadata": {
        "id": "U6c-rlC_U5MT",
        "colab_type": "code",
        "outputId": "eb180ccb-27e7-4acb-aece-c9eeead04030",
        "colab": {
          "base_uri": "https://localhost:8080/",
          "height": 119
        }
      },
      "source": [
        "(x_train, y_train), (x_test, y_test) = mnist.load_data()\n",
        "\n",
        "x_train = x_train / 255.0\n",
        "x_test = x_test / 255.0\n",
        "\n",
        "x_train = x_train.reshape(-1, np.prod(x_train.shape[1:])).astype(np.float32)\n",
        "x_test = x_test.reshape(-1, np.prod(x_test.shape[1:])).astype(np.float32)\n",
        "\n",
        "print(x_train.shape)\n",
        "print(x_test.shape)\n",
        "print(x_train.max())\n",
        "print(x_train.min())"
      ],
      "execution_count": 3,
      "outputs": [
        {
          "output_type": "stream",
          "text": [
            "Downloading data from https://storage.googleapis.com/tensorflow/tf-keras-datasets/mnist.npz\n",
            "11493376/11490434 [==============================] - 0s 0us/step\n",
            "(60000, 784)\n",
            "(10000, 784)\n",
            "1.0\n",
            "0.0\n"
          ],
          "name": "stdout"
        }
      ]
    },
    {
      "cell_type": "code",
      "metadata": {
        "id": "YN14e9Twaa76",
        "colab_type": "code",
        "colab": {}
      },
      "source": [
        "class VAE(tf.keras.Model):\n",
        "    def __init__(self):\n",
        "        super(VAE, self).__init__()\n",
        "        self.encoder1 = tf.keras.layers.Dense(500)\n",
        "        self.encoder2 = tf.keras.layers.Dense(250)\n",
        "        self.encoder3 = tf.keras.layers.Dense(100)\n",
        "\n",
        "        self.latent = tf.keras.layers.Dense(50)\n",
        "\n",
        "        self.decoder1 = tf.keras.layers.Dense(100)\n",
        "        self.decoder2 = tf.keras.layers.Dense(250)\n",
        "        self.decoder3 = tf.keras.layers.Dense(500)\n",
        "\n",
        "        self.output_layer = tf.keras.layers.Dense(784)\n",
        "\n",
        "    def call(self, x):\n",
        "        x = self.encode(x)\n",
        "\n",
        "        means = self.latent(x)\n",
        "        std = tf.nn.softplus(self.latent(x)) + 1e-6\n",
        "        #tf.print(means)\n",
        "        z_latent = means + tf.math.exp(0.5 * std) * tfd.Normal(loc=means, scale=std).sample()\n",
        "\n",
        "        x = self.decode(z_latent)\n",
        "\n",
        "        logit = self.output_layer(x)\n",
        "        pred = tf.nn.sigmoid(logit)\n",
        "\n",
        "        kl_loss = 1 + std - tf.math.square(means) - tf.math.exp(std)\n",
        "        kl_loss = tf.math.reduce_sum(kl_loss, axis=-1)\n",
        "        kl_loss *= -0.5\n",
        "\n",
        "        return logit, pred, kl_loss\n",
        "    \n",
        "    def encode(self, x):\n",
        "        x = tf.nn.relu(self.encoder1(x))\n",
        "        x = tf.nn.relu(self.encoder2(x))\n",
        "        x = tf.nn.relu(self.encoder3(x))\n",
        "        return x\n",
        "\n",
        "    def decode(self, x):\n",
        "        x = tf.nn.relu(self.decoder1(x))\n",
        "        x = tf.nn.relu(self.decoder2(x))\n",
        "        x = tf.nn.relu(self.decoder3(x))\n",
        "        return x"
      ],
      "execution_count": 0,
      "outputs": []
    },
    {
      "cell_type": "code",
      "metadata": {
        "id": "MUIPHKjk3Fpk",
        "colab_type": "code",
        "colab": {}
      },
      "source": [
        "model = VAE()\n",
        "\n",
        "\n",
        "optimizer = tf.keras.optimizers.Adam(learning_rate=0.001)\n",
        "batch_size = 1000\n",
        "epochs = 1000\n",
        "train_loss = tf.keras.metrics.Mean(name='train loss')\n",
        "train_ds = tf.data.Dataset.from_tensor_slices((x_train, y_train)).batch(batch_size)\n",
        "\n",
        "\n",
        "@tf.function\n",
        "def train_step(images, labels):\n",
        "    with tf.GradientTape() as tape:\n",
        "        logit, predictions, kl_loss = model(images)\n",
        "        #tf.print(predictions)\n",
        "        #tf.print(kl_loss)\n",
        "        log_l = tf.keras.losses.binary_crossentropy(images, predictions) * x_train.shape[1]\n",
        "        #tf.print(log_l)\n",
        "        vae_loss = tf.math.reduce_mean(log_l + kl_loss)\n",
        "        #tf.print(vae_loss)\n",
        "    gradients = tape.gradient(vae_loss, model.trainable_variables)\n",
        "    optimizer.apply_gradients(zip(gradients, model.trainable_variables))\n",
        "    train_loss(vae_loss)"
      ],
      "execution_count": 0,
      "outputs": []
    },
    {
      "cell_type": "code",
      "metadata": {
        "id": "BaLPEQn6iWXZ",
        "colab_type": "code",
        "colab": {
          "base_uri": "https://localhost:8080/",
          "height": 629
        },
        "outputId": "caf53af9-0d4f-4b58-a88f-1da7c94784b9"
      },
      "source": [
        "for e in range(epochs):\n",
        "    for x_batch, y_batch in train_ds:\n",
        "        train_step(x_batch, y_batch)\n",
        "\n",
        "    if e % 1 == 0:\n",
        "        print(e+1, ' loss: ', train_loss.result())\n",
        "\n",
        "    train_loss.reset_states()"
      ],
      "execution_count": 0,
      "outputs": [
        {
          "output_type": "stream",
          "text": [
            "1  loss:  tf.Tensor(93.95542, shape=(), dtype=float32)\n",
            "2  loss:  tf.Tensor(93.97105, shape=(), dtype=float32)\n",
            "3  loss:  tf.Tensor(93.89526, shape=(), dtype=float32)\n",
            "4  loss:  tf.Tensor(93.73122, shape=(), dtype=float32)\n",
            "5  loss:  tf.Tensor(93.64954, shape=(), dtype=float32)\n",
            "6  loss:  tf.Tensor(93.63013, shape=(), dtype=float32)\n",
            "7  loss:  tf.Tensor(93.59626, shape=(), dtype=float32)\n",
            "8  loss:  tf.Tensor(93.433014, shape=(), dtype=float32)\n",
            "9  loss:  tf.Tensor(93.390816, shape=(), dtype=float32)\n",
            "10  loss:  tf.Tensor(93.253525, shape=(), dtype=float32)\n",
            "11  loss:  tf.Tensor(93.228424, shape=(), dtype=float32)\n",
            "12  loss:  tf.Tensor(93.20548, shape=(), dtype=float32)\n",
            "13  loss:  tf.Tensor(93.15315, shape=(), dtype=float32)\n",
            "14  loss:  tf.Tensor(93.16966, shape=(), dtype=float32)\n",
            "15  loss:  tf.Tensor(93.15657, shape=(), dtype=float32)\n",
            "16  loss:  tf.Tensor(93.147865, shape=(), dtype=float32)\n",
            "17  loss:  tf.Tensor(92.98693, shape=(), dtype=float32)\n",
            "18  loss:  tf.Tensor(92.99797, shape=(), dtype=float32)\n",
            "19  loss:  tf.Tensor(92.97912, shape=(), dtype=float32)\n",
            "20  loss:  tf.Tensor(93.02372, shape=(), dtype=float32)\n",
            "21  loss:  tf.Tensor(93.09013, shape=(), dtype=float32)\n",
            "22  loss:  tf.Tensor(92.93958, shape=(), dtype=float32)\n",
            "23  loss:  tf.Tensor(92.85208, shape=(), dtype=float32)\n",
            "24  loss:  tf.Tensor(92.76977, shape=(), dtype=float32)\n",
            "25  loss:  tf.Tensor(92.720055, shape=(), dtype=float32)\n",
            "26  loss:  tf.Tensor(92.6648, shape=(), dtype=float32)\n",
            "27  loss:  tf.Tensor(92.67216, shape=(), dtype=float32)\n",
            "28  loss:  tf.Tensor(92.552345, shape=(), dtype=float32)\n",
            "29  loss:  tf.Tensor(92.53173, shape=(), dtype=float32)\n",
            "30  loss:  tf.Tensor(92.384895, shape=(), dtype=float32)\n",
            "31  loss:  tf.Tensor(92.47252, shape=(), dtype=float32)\n",
            "32  loss:  tf.Tensor(92.18248, shape=(), dtype=float32)\n",
            "33  loss:  tf.Tensor(92.02197, shape=(), dtype=float32)\n",
            "34  loss:  tf.Tensor(91.95139, shape=(), dtype=float32)\n",
            "35  loss:  tf.Tensor(91.908455, shape=(), dtype=float32)\n",
            "36  loss:  tf.Tensor(91.8261, shape=(), dtype=float32)\n"
          ],
          "name": "stdout"
        }
      ]
    },
    {
      "cell_type": "code",
      "metadata": {
        "id": "ZT7Vs32LPnGi",
        "colab_type": "code",
        "colab": {}
      },
      "source": [
        "weights = model.get_weights()"
      ],
      "execution_count": 0,
      "outputs": []
    },
    {
      "cell_type": "code",
      "metadata": {
        "id": "HppdlwnMieok",
        "colab_type": "code",
        "outputId": "39bd7483-c4c7-444c-b33e-69f830853ae3",
        "colab": {
          "base_uri": "https://localhost:8080/",
          "height": 1000
        }
      },
      "source": [
        "for i in range(10):\n",
        "    idx = np.random.randint(0, len(x_test)-1)\n",
        "    logit, y_pred, kl_loss = model(x_test[idx].reshape(1, -1))\n",
        "    fix, ax = plt.subplots(1, 2)\n",
        "    ax[0].imshow(x_test[idx].reshape(28,28) * 255.0)\n",
        "    ax[1].imshow(y_pred.numpy().reshape(28,28) * 255.0)\n",
        "    plt.show()"
      ],
      "execution_count": 20,
      "outputs": [
        {
          "output_type": "display_data",
          "data": {
            "image/png": "[encoded data removed]",
            "text/plain": [
              "<Figure size 432x288 with 2 Axes>"
            ]
          },
          "metadata": {
            "tags": []
          }
        },
        {
          "output_type": "display_data",
          "data": {
            "image/png": "[encoded data removed]",
            "text/plain": [
              "<Figure size 432x288 with 2 Axes>"
            ]
          },
          "metadata": {
            "tags": []
          }
        },
        {
          "output_type": "display_data",
          "data": {
            "image/png": "[encoded data removed]",
            "text/plain": [
              "<Figure size 432x288 with 2 Axes>"
            ]
          },
          "metadata": {
            "tags": []
          }
        },
        {
          "output_type": "display_data",
          "data": {
            "image/png": "[encoded data removed]",
            "text/plain": [
              "<Figure size 432x288 with 2 Axes>"
            ]
          },
          "metadata": {
            "tags": []
          }
        },
        {
          "output_type": "display_data",
          "data": {
            "image/png": "[encoded data removed]",
            "text/plain": [
              "<Figure size 432x288 with 2 Axes>"
            ]
          },
          "metadata": {
            "tags": []
          }
        },
        {
          "output_type": "display_data",
          "data": {
            "image/png": "[encoded data removed]",
            "text/plain": [
              "<Figure size 432x288 with 2 Axes>"
            ]
          },
          "metadata": {
            "tags": []
          }
        },
        {
          "output_type": "display_data",
          "data": {
            "image/png": "[encoded data removed]",
            "text/plain": [
              "<Figure size 432x288 with 2 Axes>"
            ]
          },
          "metadata": {
            "tags": []
          }
        },
        {
          "output_type": "display_data",
          "data": {
            "image/png": "[encoded data removed]",
            "text/plain": [
              "<Figure size 432x288 with 2 Axes>"
            ]
          },
          "metadata": {
            "tags": []
          }
        },
        {
          "output_type": "display_data",
          "data": {
            "image/png": "[encoded data removed]",
            "text/plain": [
              "<Figure size 432x288 with 2 Axes>"
            ]
          },
          "metadata": {
            "tags": []
          }
        },
        {
          "output_type": "display_data",
          "data": {
            "image/png": "[encoded data removed]",
            "text/plain": [
              "<Figure size 432x288 with 2 Axes>"
            ]
          },
          "metadata": {
            "tags": []
          }
        }
      ]
    },
    {
      "cell_type": "code",
      "metadata": {
        "id": "rSCJSrmNxEtf",
        "colab_type": "code",
        "colab": {}
      },
      "source": [
        ""
      ],
      "execution_count": 0,
      "outputs": []
    }
  ]
}