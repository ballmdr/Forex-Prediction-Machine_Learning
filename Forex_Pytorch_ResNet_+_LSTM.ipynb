{
  "nbformat": 4,
  "nbformat_minor": 0,
  "metadata": {
    "colab": {
      "name": "Forex Pytorch ResNet + LSTM.ipynb",
      "version": "0.3.2",
      "provenance": [],
      "collapsed_sections": [],
      "machine_shape": "hm",
      "include_colab_link": true
    },
    "kernelspec": {
      "name": "python3",
      "display_name": "Python 3"
    },
    "accelerator": "GPU"
  },
  "cells": [
    {
      "cell_type": "markdown",
      "metadata": {
        "id": "view-in-github",
        "colab_type": "text"
      },
      "source": [
        "<a href=\"https://colab.research.google.com/github/ballmdr/Forex-Prediction-Machine_Learning/blob/master/Forex_Pytorch_ResNet_%2B_LSTM.ipynb\" target=\"_parent\"><img src=\"https://colab.research.google.com/assets/colab-badge.svg\" alt=\"Open In Colab\"/></a>"
      ]
    },
    {
      "cell_type": "code",
      "metadata": {
        "id": "GTr87mQimrTu",
        "colab_type": "code",
        "outputId": "6d726d0a-71c5-4967-edbd-953d79b0cae7",
        "colab": {
          "base_uri": "https://localhost:8080/",
          "height": 571
        }
      },
      "source": [
        "!pip install fxcmpy"
      ],
      "execution_count": 0,
      "outputs": [
        {
          "output_type": "stream",
          "text": [
            "Collecting fxcmpy\n",
            "  Downloading https://files.pythonhosted.org/packages/14/12/d466ac750941e4a0fe75c5e7935713a74a9d7474cb27bc472e0a757b4b48/fxcmpy-1.2.4-py3-none-any.whl\n",
            "Collecting socketIO-client (from fxcmpy)\n",
            "  Downloading https://files.pythonhosted.org/packages/12/d4/abeb2596c2f16276c66910362b27d04b8d2cf12a746dcccf1d00de3f691b/socketIO-client-0.7.2.tar.gz\n",
            "Collecting configparser (from fxcmpy)\n",
            "  Downloading https://files.pythonhosted.org/packages/ba/05/6c96328e92e625fc31445d24d75a2c92ef9ba34fc5b037fe69693c362a0d/configparser-3.7.4-py2.py3-none-any.whl\n",
            "Requirement already satisfied: requests[socks] in /usr/local/lib/python3.6/dist-packages (from fxcmpy) (2.21.0)\n",
            "Requirement already satisfied: pandas in /usr/local/lib/python3.6/dist-packages (from fxcmpy) (0.24.2)\n",
            "Requirement already satisfied: six in /usr/local/lib/python3.6/dist-packages (from socketIO-client->fxcmpy) (1.12.0)\n",
            "Collecting websocket-client (from socketIO-client->fxcmpy)\n",
            "\u001b[?25l  Downloading https://files.pythonhosted.org/packages/29/19/44753eab1fdb50770ac69605527e8859468f3c0fd7dc5a76dd9c4dbd7906/websocket_client-0.56.0-py2.py3-none-any.whl (200kB)\n",
            "\u001b[K     |████████████████████████████████| 204kB 8.2MB/s \n",
            "\u001b[?25hRequirement already satisfied: urllib3<1.25,>=1.21.1 in /usr/local/lib/python3.6/dist-packages (from requests[socks]->fxcmpy) (1.24.3)\n",
            "Requirement already satisfied: certifi>=2017.4.17 in /usr/local/lib/python3.6/dist-packages (from requests[socks]->fxcmpy) (2019.6.16)\n",
            "Requirement already satisfied: chardet<3.1.0,>=3.0.2 in /usr/local/lib/python3.6/dist-packages (from requests[socks]->fxcmpy) (3.0.4)\n",
            "Requirement already satisfied: idna<2.9,>=2.5 in /usr/local/lib/python3.6/dist-packages (from requests[socks]->fxcmpy) (2.8)\n",
            "Requirement already satisfied: PySocks!=1.5.7,>=1.5.6; extra == \"socks\" in /usr/local/lib/python3.6/dist-packages (from requests[socks]->fxcmpy) (1.7.0)\n",
            "Requirement already satisfied: numpy>=1.12.0 in /usr/local/lib/python3.6/dist-packages (from pandas->fxcmpy) (1.16.4)\n",
            "Requirement already satisfied: pytz>=2011k in /usr/local/lib/python3.6/dist-packages (from pandas->fxcmpy) (2018.9)\n",
            "Requirement already satisfied: python-dateutil>=2.5.0 in /usr/local/lib/python3.6/dist-packages (from pandas->fxcmpy) (2.5.3)\n",
            "Building wheels for collected packages: socketIO-client\n",
            "  Building wheel for socketIO-client (setup.py) ... \u001b[?25l\u001b[?25hdone\n",
            "  Created wheel for socketIO-client: filename=socketIO_client-0.7.2-cp36-none-any.whl size=23707 sha256=8c6af207867a550dd92fb9deb4c83b9ede0c76f1e31b15c07427b459a470e2e4\n",
            "  Stored in directory: /root/.cache/pip/wheels/bd/5d/9f/ebc0c223ec59641877c817eb10442627e69af88c126f1f53a8\n",
            "Successfully built socketIO-client\n",
            "Installing collected packages: websocket-client, socketIO-client, configparser, fxcmpy\n",
            "Successfully installed configparser-3.7.4 fxcmpy-1.2.4 socketIO-client-0.7.2 websocket-client-0.56.0\n"
          ],
          "name": "stdout"
        }
      ]
    },
    {
      "cell_type": "code",
      "metadata": {
        "id": "KB2wBmhcwl_A",
        "colab_type": "code",
        "outputId": "f7beb01b-51b1-4713-c23f-3b438a199842",
        "colab": {
          "base_uri": "https://localhost:8080/",
          "height": 34
        }
      },
      "source": [
        "import torch\n",
        "import torch.nn as nn\n",
        "import torch.nn.functional as F\n",
        "from torch.autograd import Variable\n",
        "from torch.utils.data import DataLoader\n",
        "from sklearn.decomposition import PCA\n",
        "from sklearn.preprocessing import StandardScaler\n",
        "import fxcmpy\n",
        "import pandas as pd\n",
        "import numpy as np\n",
        "from sklearn.preprocessing import MinMaxScaler, StandardScaler\n",
        "from sklearn.decomposition import PCA\n",
        "from sklearn.model_selection import train_test_split\n",
        "import matplotlib.pyplot as plt\n",
        "from tensorflow.keras.utils import to_categorical\n",
        "import skimage as sk\n",
        "from skimage.transform import resize\n",
        "import pywt\n",
        "import pickle\n",
        "from pandas.plotting import register_matplotlib_converters\n",
        "register_matplotlib_converters()\n",
        "from google.colab import drive\n",
        "drive.mount('/content/drive')\n",
        "\n",
        "def connect():\n",
        "    return fxcmpy.fxcmpy(access_token=access_token, server=server)"
      ],
      "execution_count": 1,
      "outputs": [
        {
          "output_type": "stream",
          "text": [
            "Drive already mounted at /content/drive; to attempt to forcibly remount, call drive.mount(\"/content/drive\", force_remount=True).\n"
          ],
          "name": "stdout"
        }
      ]
    },
    {
      "cell_type": "code",
      "metadata": {
        "id": "TK4QhqlJ46Ob",
        "colab_type": "code",
        "outputId": "68d25baa-4d82-410a-c33c-e9e98ddbfd75",
        "colab": {
          "base_uri": "https://localhost:8080/",
          "height": 34
        }
      },
      "source": [
        "con = connect()"
      ],
      "execution_count": 9,
      "outputs": [
        {
          "output_type": "stream",
          "text": [
            "W0810 13:27:13.294722 140649617688448 fxcmpy.py:222] Default account set to 1041561, to change use set_default_account().\n"
          ],
          "name": "stderr"
        }
      ]
    },
    {
      "cell_type": "code",
      "metadata": {
        "id": "um-6M_LNw0Rv",
        "colab_type": "code",
        "colab": {}
      },
      "source": [
        "access_token = '8e5f8c5cd314ff9f55c9dd267e212e95140fe0f5'\n",
        "server = 'demo'\n",
        "symbol = 'EURUSD'\n",
        "symbol2 = 'EUR/USD'\n",
        "timeframe = 'H1'\n",
        "windows = 20\n",
        "target_windows = 3\n",
        "digits = 10000\n",
        "ratio = 10\n",
        "n_prices = 10000\n",
        "K = 3"
      ],
      "execution_count": 0,
      "outputs": []
    },
    {
      "cell_type": "code",
      "metadata": {
        "id": "3Qpt78mrF8uS",
        "colab_type": "code",
        "colab": {}
      },
      "source": [
        "def getImg(data):\n",
        "  plt.style.use('dark_background')\n",
        "  fig = plt.figure(frameon=False) \n",
        "  fig.set_size_inches(3,2)\n",
        "  ax = plt.Axes(fig, [0., 0., 1., 1.])\n",
        "  ax.set_axis_off()\n",
        "  fig.add_axes(ax)\n",
        "\n",
        "  plt.plot(data.ma3, color='red')\n",
        "  plt.plot(data.ma5, color='blue')\n",
        "  plt.plot(data.ma8, color='green')\n",
        "  plt.plot(data.ma10, color='orange')\n",
        "  plt.plot(data.ma12, color='black')\n",
        "  plt.plot(data.ma15, color='purple')\n",
        "  plt.plot(data.ma20, color='lime')\n",
        "  #plt.plot(_df.open, color='black')\n",
        "  # plt.plot(_df.close, color='purple')\n",
        "\n",
        "  plt.savefig('tmp2.png')\n",
        "\n",
        "  plt.close()\n",
        "\n",
        "  img = plt.imread('tmp2.png')\n",
        "  img = resize(img, (100,150))\n",
        "\n",
        "  return img"
      ],
      "execution_count": 0,
      "outputs": []
    },
    {
      "cell_type": "code",
      "metadata": {
        "id": "FFmL-2Xe4p_S",
        "colab_type": "code",
        "colab": {}
      },
      "source": [
        "def dfProcess(df):\n",
        "# Short-Term\n",
        "# ใช้ค่า 3, 5, 8, 10, 12, or 15.\n",
        "# Long-Term\n",
        "# ใช้ค่า 30, 35, 40, 45, 50, or 60.\n",
        "  df['ma3'] = np.round(df.close.rolling(3).mean(), 5)\n",
        "  df['ma5'] = np.round(df.close.rolling(5).mean(), 5)\n",
        "  df['ma8'] = np.round(df.close.rolling(8).mean(), 5)\n",
        "  df['ma10'] = np.round(df.close.rolling(10).mean(), 5)\n",
        "  df['ma12'] = np.round(df.close.rolling(12).mean(), 5)\n",
        "  df['ma15'] = np.round(df.close.rolling(15).mean(), 5)\n",
        "  df['ma20'] = np.round(df.close.rolling(20).mean(), 5)\n",
        "  #df['ma7_shift3'] = df.ma7.shift(-3)\n",
        "  #df['ma10_shift3'] = df.ma10.shift(-3)\n",
        "  #df['close_shift3'] = df.close.shift(-3)\n",
        "  df['close_diff_pip'] = - df.close.diff(-target_windows) * digits\n",
        "  \n",
        "  arr = ['0', '1', '2' ]\n",
        "  for i in range(1, target_windows):\n",
        "    df[arr[i]] = - df.close.diff(-i) * digits\n",
        "    \n",
        "  df.dropna(inplace=True)\n",
        "\n",
        "  #df['close_target_percent'] = np.round((df['close_diff_pip']*digits)/df.close, 2) * 100\n",
        "  #df['7_10_target_percent'] = np.round(((df['ma7_shift3']-df['ma10_shift3'])*digits)/df['ma10_shift3'], 2)\n",
        "  #df['5_7_target_percent'] = np.round(((df.ma5-df.ma7)*digits)/df.ma7, 2)\n",
        "  \n",
        "\n",
        "  df['Target'] = np.ones(len(df))\n",
        "  # df['Target'].loc[(df['close_target_percent'] > 9) & (df['7_10_target_percent'] > 1) & (df['5_7_target_percent'] > 1)] = 2\n",
        "  # df['Target'].loc[(df['close_target_percent'] < -9) & (df['7_10_target_percent'] < -1) & (df['5_7_target_percent'] < -1)] = 0\n",
        "  df['Target'].loc[(df['close_diff_pip'] > ratio) &\n",
        "                   (df['1'] > -ratio) &\n",
        "                   (df['2'] > -ratio) \n",
        "                  ] = 2\n",
        "  df['Target'].loc[(df['close_diff_pip'] < -ratio) &\n",
        "                   (df['1'] < ratio) &\n",
        "                   (df['2'] < ratio)                \n",
        "                  ] = 0\n",
        "  print(df.Target.value_counts())\n",
        "  \n",
        "  # df['returns'] = df.close.pct_change(1)\n",
        "  # df['returns_5'] = df.close.pct_change(5)\n",
        "  # df['log_return'] = np.log(df.returns)\n",
        "  # df['log_return_5'] = np.log(df.returns_5)\n",
        "  \n",
        "  #df.drop(['bidopen', 'bidclose', 'bidhigh', 'askopen', 'askclose', 'askhigh', 'bidlow', 'asklow', 'tickqty', 'close_diff_pip', '1', '2', '3', '4'], axis=1, inplace=True)\n",
        "  df.dropna(inplace=True)\n",
        "  print(df.head())\n",
        "  print(df.shape)\n",
        "  \n",
        "  print(df.info())\n",
        "  \n",
        "  return df\n",
        "\n",
        "\n",
        "def getXY(df, windows):\n",
        "  print(windows)\n",
        "  X = []\n",
        "  Y = []\n",
        "  for i in range(len(df)-(windows+1)):\n",
        "    plt.style.use('dark_background')\n",
        "    fig = plt.figure(frameon=False) \n",
        "    fig.set_size_inches(3,2)\n",
        "    ax = plt.Axes(fig, [0., 0., 1., 1.])\n",
        "    ax.set_axis_off()\n",
        "    fig.add_axes(ax)\n",
        "\n",
        "    _df = df.iloc[i:windows]\n",
        "    plt.plot(_df.ma3, color='red')\n",
        "    plt.plot(_df.ma5, color='blue')\n",
        "    plt.plot(_df.ma8, color='green')\n",
        "    plt.plot(_df.ma10, color='orange')\n",
        "    plt.plot(_df.ma12, color='black')\n",
        "    plt.plot(_df.ma15, color='purple')\n",
        "    plt.plot(_df.ma20, color='lime')\n",
        "    #plt.plot(_df.open, color='black')\n",
        "   # plt.plot(_df.close, color='purple')\n",
        "\n",
        "    plt.savefig('tmp2.png')\n",
        "\n",
        "    plt.close()\n",
        "\n",
        "    img = plt.imread('tmp2.png')\n",
        "    new_img = resize(img, (100,150))\n",
        "    #print(new_img.shape)\n",
        "    if i % 1000 == 0:\n",
        "      print(i)\n",
        "      plt.imshow(new_img)\n",
        "      plt.show()\n",
        "      print(i, ' - ', windows)\n",
        "      print('target: ', df.Target.iloc[windows-1])\n",
        "    X.append(new_img)\n",
        "    Y.append(df.Target.iloc[windows-1])\n",
        "\n",
        "    windows += 1\n",
        "\n",
        "  return X, Y\n"
      ],
      "execution_count": 0,
      "outputs": []
    },
    {
      "cell_type": "code",
      "metadata": {
        "id": "TDLP_ke1YUaD",
        "colab_type": "code",
        "colab": {}
      },
      "source": [
        "def calScore(y_true, y_pred, e, printScore=False):\n",
        "  #unique, counts = np.unique(np.argmax(y_pred, axis=1), return_counts=True)\n",
        "  #print(np.asarray((unique, counts)).T)\n",
        "\n",
        "\n",
        "  y_0 = np.where(y_true == 0.0)\n",
        "  y_1 = np.where(y_true == 1.0)\n",
        "  y_2 = np.where(y_true == 2.0)\n",
        "  # y_3 = np.where(y_test == 3.0)\n",
        "  # y_4 = np.where(y_test == 4.0)\n",
        "\n",
        "  pred_0 = []\n",
        "  pred_1 = []\n",
        "  pred_2 = []\n",
        "\n",
        "  for i in y_0[0]:\n",
        "    pred_0.append(y_pred[i])\n",
        "  for i in y_1[0]:\n",
        "    pred_1.append(y_pred[i])\n",
        "  for i in y_2[0]:\n",
        "    pred_2.append(y_pred[i])\n",
        "  # for i in y_3[0]:\n",
        "  #   x_3.append(x_test[i])\n",
        "  # for i in y_4[0]:\n",
        "  #   x_4.append(x_test[i])\n",
        "\n",
        "  pred_0 = np.array(pred_0)\n",
        "  pred_1 = np.array(pred_1)\n",
        "  pred_2 = np.array(pred_2)\n",
        "\n",
        "  #acc1\n",
        "  trade_acc0 = len(pred_0[pred_0==0]) + len(pred_0[pred_0==2])\n",
        "  acc0_win = len(pred_0[pred_0==0])\n",
        "  acc0_loss = len(pred_0[pred_0==2])\n",
        "\n",
        "  #acc2\n",
        "  trade_acc2 = len(pred_2[pred_2==0]) + len(pred_2[pred_2==2])\n",
        "  acc2_win = len(pred_2[pred_2==2])\n",
        "  acc2_loss = len(pred_2[pred_2==0])\n",
        "\n",
        "  #acc1\n",
        "  trade_acc1 = len(pred_1[pred_1==0]) + len(pred_1[pred_1==2])\n",
        "  acc1_loss = trade_acc1\n",
        "  total_trade = trade_acc0 + trade_acc1 + trade_acc2\n",
        "  \n",
        "  win_rate = 0.0\n",
        "  loss_rate = 0.0\n",
        "  if total_trade > 0:\n",
        "    win_rate = (acc0_win + acc2_win) / total_trade * 100\n",
        "    loss_rate = (acc0_loss + acc1_loss + acc2_loss) / total_trade * 100\n",
        "\n",
        "  rr = 0.0\n",
        "  if loss_rate > 0:\n",
        "    rr = win_rate / loss_rate\n",
        "\n",
        "  if e % 10 == 0 or printScore:\n",
        "    print(\"Trade acc0: \", trade_acc0)\n",
        "    print('acc0 win: ', acc0_win)\n",
        "    print('acc0 loss: ', acc0_loss)\n",
        "    print('------')\n",
        "    print(\"Trade acc2: \", trade_acc2)\n",
        "    print('acc2 win: ', acc2_win)\n",
        "    print('acc2 loss: ', acc2_loss)\n",
        "    print('------')\n",
        "    print(\"Trade acc1: \", trade_acc1)\n",
        "    print('acc1 loss: ', acc1_loss)\n",
        "    print('------')\n",
        "    print(\"total trade: \", total_trade)\n",
        "    print('rr: ', rr)\n",
        "    print('win rate: ', np.round(win_rate, 2))\n",
        "    print('loss rate:', np.round(loss_rate, 2))\n",
        "    print('pred_0 max: ', pred_0.max())\n",
        "    print('pred_2 min: ', pred_2.min())\n",
        "\n",
        "  return rr, pred_0, pred_2"
      ],
      "execution_count": 0,
      "outputs": []
    },
    {
      "cell_type": "code",
      "metadata": {
        "id": "SnqjLTdB4rRQ",
        "colab_type": "code",
        "outputId": "8a4fe932-9da1-4b25-a9e0-223f8135bcec",
        "colab": {
          "base_uri": "https://localhost:8080/",
          "height": 799
        }
      },
      "source": [
        "df = con.get_candles(symbol2, period=timeframe, number=n_prices)\n",
        "df['close'] = (df.bidclose + df.askclose) / 2\n",
        "df = dfProcess(df)\n",
        "\n",
        "#df['close'] = (df.close - df.close.mean()) / (df.close.max() - df.close.min())\n",
        "#print(df['close'].head())\n",
        "#df = df[~df.isin([np.nan, np.inf, -np.inf]).any(1)]\n",
        "\n",
        "\n",
        "\n",
        "# pca = PCA(n_components=.90)\n",
        "# train_data = pca.fit_transform(train_data)\n",
        "# test_data = pca.transform(test_data)\n",
        "\n",
        "# scale = StandardScaler()\n",
        "# minmax = MinMaxScaler()\n",
        "# train_data = minmax.fit_transform(train_data)\n",
        "# test_data = minmax.transform(test_data)\n"
      ],
      "execution_count": 6,
      "outputs": [
        {
          "output_type": "stream",
          "text": [
            "1.0    6113\n",
            "0.0    1959\n",
            "2.0    1906\n",
            "Name: Target, dtype: int64\n",
            "                     bidopen  bidclose  bidhigh  ...      1      2  Target\n",
            "date                                             ...                      \n",
            "2018-01-12 13:00:00  1.21327   1.21193  1.21484  ...  17.85  28.15     2.0\n",
            "2018-01-12 14:00:00  1.21193   1.21374  1.21483  ...  10.30  -7.60     1.0\n",
            "2018-01-12 15:00:00  1.21374   1.21475  1.21547  ... -17.90 -13.60     1.0\n",
            "2018-01-12 16:00:00  1.21475   1.21296  1.21552  ...   4.30  32.05     2.0\n",
            "2018-01-12 17:00:00  1.21296   1.21339  1.21366  ...  27.75  46.75     2.0\n",
            "\n",
            "[5 rows x 21 columns]\n",
            "(9978, 21)\n",
            "<class 'pandas.core.frame.DataFrame'>\n",
            "DatetimeIndex: 9978 entries, 2018-01-12 13:00:00 to 2019-08-09 17:00:00\n",
            "Data columns (total 21 columns):\n",
            "bidopen           9978 non-null float64\n",
            "bidclose          9978 non-null float64\n",
            "bidhigh           9978 non-null float64\n",
            "bidlow            9978 non-null float64\n",
            "askopen           9978 non-null float64\n",
            "askclose          9978 non-null float64\n",
            "askhigh           9978 non-null float64\n",
            "asklow            9978 non-null float64\n",
            "tickqty           9978 non-null int64\n",
            "close             9978 non-null float64\n",
            "ma3               9978 non-null float64\n",
            "ma5               9978 non-null float64\n",
            "ma8               9978 non-null float64\n",
            "ma10              9978 non-null float64\n",
            "ma12              9978 non-null float64\n",
            "ma15              9978 non-null float64\n",
            "ma20              9978 non-null float64\n",
            "close_diff_pip    9978 non-null float64\n",
            "1                 9978 non-null float64\n",
            "2                 9978 non-null float64\n",
            "Target            9978 non-null float64\n",
            "dtypes: float64(20), int64(1)\n",
            "memory usage: 1.7 MB\n",
            "None\n"
          ],
          "name": "stdout"
        },
        {
          "output_type": "stream",
          "text": [
            "/usr/local/lib/python3.6/dist-packages/pandas/core/indexing.py:190: SettingWithCopyWarning: \n",
            "A value is trying to be set on a copy of a slice from a DataFrame\n",
            "\n",
            "See the caveats in the documentation: http://pandas.pydata.org/pandas-docs/stable/indexing.html#indexing-view-versus-copy\n",
            "  self._setitem_with_indexer(indexer, value)\n"
          ],
          "name": "stderr"
        }
      ]
    },
    {
      "cell_type": "code",
      "metadata": {
        "id": "QnyXQ_T0RH5s",
        "colab_type": "code",
        "colab": {}
      },
      "source": [
        "split = int(len(df) * 0.60)\n",
        "train_data = df.iloc[:split]\n",
        "test_data = df.iloc[split:]\n",
        "\n",
        "# x_train, y_train = getXY(train_data, windows)\n",
        "# x_test, y_test = getXY(test_data, windows)"
      ],
      "execution_count": 0,
      "outputs": []
    },
    {
      "cell_type": "code",
      "metadata": {
        "id": "PzMXwVKercVI",
        "colab_type": "code",
        "colab": {
          "base_uri": "https://localhost:8080/",
          "height": 232
        },
        "outputId": "33f094cd-2c5a-4a43-c0e3-8505ad75b4a2"
      },
      "source": [
        "with open('/content/drive/My Drive/Colab Notebooks/x_train_' + symbol + '_' + timeframe + '_' + str(n_prices) + '.pickle', 'wb') as file:\n",
        "  pickle.dump(x_train, file)\n",
        "with open('/content/drive/My Drive/Colab Notebooks/y_train_' + symbol + '_' + timeframe + '_' + str(n_prices) + '.pickle', 'wb') as file:\n",
        "  pickle.dump(y_train, file)\n",
        "with open('/content/drive/My Drive/Colab Notebooks/x_test_' + symbol + '_' + timeframe + '_' + str(n_prices) + '.pickle', 'wb') as file:\n",
        "  pickle.dump(x_test, file)\n",
        "with open('/content/drive/My Drive/Colab Notebooks/y_test_' + symbol + '_' + timeframe + '_' + str(n_prices) + '.pickle', 'wb') as file:\n",
        "  pickle.dump(y_test, file)"
      ],
      "execution_count": 5,
      "outputs": [
        {
          "output_type": "error",
          "ename": "NameError",
          "evalue": "ignored",
          "traceback": [
            "\u001b[0;31m---------------------------------------------------------------------------\u001b[0m",
            "\u001b[0;31mNameError\u001b[0m                                 Traceback (most recent call last)",
            "\u001b[0;32m<ipython-input-5-bb0d21b2c9c5>\u001b[0m in \u001b[0;36m<module>\u001b[0;34m()\u001b[0m\n\u001b[1;32m      1\u001b[0m \u001b[0;32mwith\u001b[0m \u001b[0mopen\u001b[0m\u001b[0;34m(\u001b[0m\u001b[0;34m'/content/drive/My Drive/Colab Notebooks/x_train_'\u001b[0m \u001b[0;34m+\u001b[0m \u001b[0msymbol\u001b[0m \u001b[0;34m+\u001b[0m \u001b[0;34m'_'\u001b[0m \u001b[0;34m+\u001b[0m \u001b[0mtimeframe\u001b[0m \u001b[0;34m+\u001b[0m \u001b[0;34m'_'\u001b[0m \u001b[0;34m+\u001b[0m \u001b[0mstr\u001b[0m\u001b[0;34m(\u001b[0m\u001b[0mn_prices\u001b[0m\u001b[0;34m)\u001b[0m \u001b[0;34m+\u001b[0m \u001b[0;34m'.pickle'\u001b[0m\u001b[0;34m,\u001b[0m \u001b[0;34m'wb'\u001b[0m\u001b[0;34m)\u001b[0m \u001b[0;32mas\u001b[0m \u001b[0mfile\u001b[0m\u001b[0;34m:\u001b[0m\u001b[0;34m\u001b[0m\u001b[0;34m\u001b[0m\u001b[0m\n\u001b[0;32m----> 2\u001b[0;31m   \u001b[0mpickle\u001b[0m\u001b[0;34m.\u001b[0m\u001b[0mdump\u001b[0m\u001b[0;34m(\u001b[0m\u001b[0mx_train\u001b[0m\u001b[0;34m,\u001b[0m \u001b[0mfile\u001b[0m\u001b[0;34m)\u001b[0m\u001b[0;34m\u001b[0m\u001b[0;34m\u001b[0m\u001b[0m\n\u001b[0m\u001b[1;32m      3\u001b[0m \u001b[0;32mwith\u001b[0m \u001b[0mopen\u001b[0m\u001b[0;34m(\u001b[0m\u001b[0;34m'/content/drive/My Drive/Colab Notebooks/y_train_'\u001b[0m \u001b[0;34m+\u001b[0m \u001b[0msymbol\u001b[0m \u001b[0;34m+\u001b[0m \u001b[0;34m'_'\u001b[0m \u001b[0;34m+\u001b[0m \u001b[0mtimeframe\u001b[0m \u001b[0;34m+\u001b[0m \u001b[0;34m'_'\u001b[0m \u001b[0;34m+\u001b[0m \u001b[0mstr\u001b[0m\u001b[0;34m(\u001b[0m\u001b[0mn_prices\u001b[0m\u001b[0;34m)\u001b[0m \u001b[0;34m+\u001b[0m \u001b[0;34m'.pickle'\u001b[0m\u001b[0;34m,\u001b[0m \u001b[0;34m'wb'\u001b[0m\u001b[0;34m)\u001b[0m \u001b[0;32mas\u001b[0m \u001b[0mfile\u001b[0m\u001b[0;34m:\u001b[0m\u001b[0;34m\u001b[0m\u001b[0;34m\u001b[0m\u001b[0m\n\u001b[1;32m      4\u001b[0m   \u001b[0mpickle\u001b[0m\u001b[0;34m.\u001b[0m\u001b[0mdump\u001b[0m\u001b[0;34m(\u001b[0m\u001b[0my_train\u001b[0m\u001b[0;34m,\u001b[0m \u001b[0mfile\u001b[0m\u001b[0;34m)\u001b[0m\u001b[0;34m\u001b[0m\u001b[0;34m\u001b[0m\u001b[0m\n\u001b[1;32m      5\u001b[0m \u001b[0;32mwith\u001b[0m \u001b[0mopen\u001b[0m\u001b[0;34m(\u001b[0m\u001b[0;34m'/content/drive/My Drive/Colab Notebooks/x_test_'\u001b[0m \u001b[0;34m+\u001b[0m \u001b[0msymbol\u001b[0m \u001b[0;34m+\u001b[0m \u001b[0;34m'_'\u001b[0m \u001b[0;34m+\u001b[0m \u001b[0mtimeframe\u001b[0m \u001b[0;34m+\u001b[0m \u001b[0;34m'_'\u001b[0m \u001b[0;34m+\u001b[0m \u001b[0mstr\u001b[0m\u001b[0;34m(\u001b[0m\u001b[0mn_prices\u001b[0m\u001b[0;34m)\u001b[0m \u001b[0;34m+\u001b[0m \u001b[0;34m'.pickle'\u001b[0m\u001b[0;34m,\u001b[0m \u001b[0;34m'wb'\u001b[0m\u001b[0;34m)\u001b[0m \u001b[0;32mas\u001b[0m \u001b[0mfile\u001b[0m\u001b[0;34m:\u001b[0m\u001b[0;34m\u001b[0m\u001b[0;34m\u001b[0m\u001b[0m\n",
            "\u001b[0;31mNameError\u001b[0m: name 'x_train' is not defined"
          ]
        }
      ]
    },
    {
      "cell_type": "code",
      "metadata": {
        "id": "Q91xvlbatv3P",
        "colab_type": "code",
        "colab": {}
      },
      "source": [
        "with open('/content/drive/My Drive/Colab Notebooks/x_train_' + symbol + '_' + timeframe + '_' + str(n_prices) + '.pickle', 'rb') as file:\n",
        "  x_train = pickle.load(file)\n",
        "with open('/content/drive/My Drive/Colab Notebooks/y_train_' + symbol + '_' + timeframe + '_' + str(n_prices) + '.pickle', 'rb') as file:\n",
        "  y_train = pickle.load(file)\n",
        "with open('/content/drive/My Drive/Colab Notebooks/x_test_' + symbol + '_' + timeframe + '_' + str(n_prices) + '.pickle', 'rb') as file:\n",
        "  x_test = pickle.load(file)\n",
        "with open('/content/drive/My Drive/Colab Notebooks/y_test_' + symbol + '_' + timeframe + '_' + str(n_prices) + '.pickle', 'rb') as file:\n",
        "  y_test = pickle.load(file)"
      ],
      "execution_count": 0,
      "outputs": []
    },
    {
      "cell_type": "code",
      "metadata": {
        "id": "_Xw2k6srsPnD",
        "colab_type": "code",
        "colab": {}
      },
      "source": [
        "with open('/content/drive/My Drive/Colab Notebooks/pca.pickle', 'wb') as file:\n",
        "  pickle.dump(pca, file)\n",
        "with open('/content/drive/My Drive/Colab Notebooks/scale.pickle', 'wb') as file:\n",
        "  pickle.dump(scale, file)\n",
        "with open('/content/drive/My Drive/Colab Notebooks/x_train_pca.pickle', 'wb') as file:\n",
        "  pickle.dump(new_test_img, file)\n",
        "with open('/content/drive/My Drive/Colab Notebooks/x_test_pca.pickle', 'wb') as file:\n",
        "  pickle.dump(x_test_pca, file)"
      ],
      "execution_count": 0,
      "outputs": []
    },
    {
      "cell_type": "code",
      "metadata": {
        "id": "oVSwKEnCsUPr",
        "colab_type": "code",
        "colab": {
          "base_uri": "https://localhost:8080/",
          "height": 232
        },
        "outputId": "6982ac7b-b081-4940-c297-3fc80eba287a"
      },
      "source": [
        "# load pca sample\n",
        "\n",
        "with open('/content/drive/My Drive/Colab Notebooks/x_train_pca.pickle', 'rb') as file:\n",
        "  x_train_pca = pickle.load(file)\n",
        "with open('/content/drive/My Drive/Colab Notebooks/x_test_pca.pickle', 'rb') as file:\n",
        "  x_test_pca = pickle.load(file)\n",
        "\n",
        "with open('/content/drive/My Drive/Colab Notebooks/y_train_' + symbol + '_' + timeframe + '_' + str(n_prices) + '.pickle', 'rb') as file:\n",
        "  y_train = pickle.load(file) \n",
        "with open('/content/drive/My Drive/Colab Notebooks/y_test_' + symbol + '_' + timeframe + '_' + str(n_prices) + '.pickle', 'rb') as file:\n",
        "  y_test = pickle.load(file)"
      ],
      "execution_count": 6,
      "outputs": [
        {
          "output_type": "error",
          "ename": "FileNotFoundError",
          "evalue": "ignored",
          "traceback": [
            "\u001b[0;31m---------------------------------------------------------------------------\u001b[0m",
            "\u001b[0;31mFileNotFoundError\u001b[0m                         Traceback (most recent call last)",
            "\u001b[0;32m<ipython-input-6-7470b1c833e7>\u001b[0m in \u001b[0;36m<module>\u001b[0;34m()\u001b[0m\n\u001b[1;32m      2\u001b[0m \u001b[0;32mwith\u001b[0m \u001b[0mopen\u001b[0m\u001b[0;34m(\u001b[0m\u001b[0;34m'/content/drive/My Drive/Colab Notebooks/x_train_pca.pickle'\u001b[0m\u001b[0;34m,\u001b[0m \u001b[0;34m'rb'\u001b[0m\u001b[0;34m)\u001b[0m \u001b[0;32mas\u001b[0m \u001b[0mfile\u001b[0m\u001b[0;34m:\u001b[0m\u001b[0;34m\u001b[0m\u001b[0;34m\u001b[0m\u001b[0m\n\u001b[1;32m      3\u001b[0m   \u001b[0mx_train_pca\u001b[0m \u001b[0;34m=\u001b[0m \u001b[0mpickle\u001b[0m\u001b[0;34m.\u001b[0m\u001b[0mload\u001b[0m\u001b[0;34m(\u001b[0m\u001b[0mfile\u001b[0m\u001b[0;34m)\u001b[0m\u001b[0;34m\u001b[0m\u001b[0;34m\u001b[0m\u001b[0m\n\u001b[0;32m----> 4\u001b[0;31m \u001b[0;32mwith\u001b[0m \u001b[0mopen\u001b[0m\u001b[0;34m(\u001b[0m\u001b[0;34m'/content/drive/My Drive/Colab Notebooks/x_test_pca.pickle'\u001b[0m\u001b[0;34m,\u001b[0m \u001b[0;34m'rb'\u001b[0m\u001b[0;34m)\u001b[0m \u001b[0;32mas\u001b[0m \u001b[0mfile\u001b[0m\u001b[0;34m:\u001b[0m\u001b[0;34m\u001b[0m\u001b[0;34m\u001b[0m\u001b[0m\n\u001b[0m\u001b[1;32m      5\u001b[0m   \u001b[0mx_test_pca\u001b[0m \u001b[0;34m=\u001b[0m \u001b[0mpickle\u001b[0m\u001b[0;34m.\u001b[0m\u001b[0mload\u001b[0m\u001b[0;34m(\u001b[0m\u001b[0mfile\u001b[0m\u001b[0;34m)\u001b[0m\u001b[0;34m\u001b[0m\u001b[0;34m\u001b[0m\u001b[0m\n\u001b[1;32m      6\u001b[0m \u001b[0;34m\u001b[0m\u001b[0m\n",
            "\u001b[0;31mFileNotFoundError\u001b[0m: [Errno 2] No such file or directory: '/content/drive/My Drive/Colab Notebooks/x_test_pca.pickle'"
          ]
        }
      ]
    },
    {
      "cell_type": "code",
      "metadata": {
        "id": "QHozEfBU2QSj",
        "colab_type": "code",
        "colab": {}
      },
      "source": [
        "x_train = np.array(x_train)\n",
        "x_test = np.array(x_test)\n",
        "y_train = np.array(y_train)\n",
        "y_test = np.array(y_test)"
      ],
      "execution_count": 0,
      "outputs": []
    },
    {
      "cell_type": "code",
      "metadata": {
        "id": "qN7K3T7Zuf6d",
        "colab_type": "code",
        "outputId": "ec7cb666-1d99-4cd3-e9d4-76fb6c885a0e",
        "colab": {
          "base_uri": "https://localhost:8080/",
          "height": 269
        }
      },
      "source": [
        "idx = np.random.randint(0, len(x_test)-1)\n",
        "plt.imshow(x_test[idx])\n",
        "plt.show()"
      ],
      "execution_count": 0,
      "outputs": [
        {
          "output_type": "display_data",
          "data": {
            "image/png": "[encoded data removed]",
            "text/plain": [
              "<Figure size 432x288 with 1 Axes>"
            ]
          },
          "metadata": {
            "tags": []
          }
        }
      ]
    },
    {
      "cell_type": "code",
      "metadata": {
        "id": "Bkzu0d-tXm9k",
        "colab_type": "code",
        "outputId": "5e57712a-5922-4ef9-f94c-8d42dc3df835",
        "colab": {
          "base_uri": "https://localhost:8080/",
          "height": 868
        }
      },
      "source": [
        "x_test[0]"
      ],
      "execution_count": 0,
      "outputs": [
        {
          "output_type": "execute_result",
          "data": {
            "text/plain": [
              "array([[[0.        , 0.        , 0.        , 0.00392157],\n",
              "        [0.        , 0.        , 0.        , 0.00392157],\n",
              "        [0.        , 0.        , 0.        , 0.00392157],\n",
              "        ...,\n",
              "        [0.        , 0.        , 0.        , 0.00392157],\n",
              "        [0.        , 0.        , 0.        , 0.00392157],\n",
              "        [0.        , 0.        , 0.        , 0.00392157]],\n",
              "\n",
              "       [[0.        , 0.        , 0.        , 0.00392157],\n",
              "        [0.        , 0.        , 0.        , 0.00392157],\n",
              "        [0.        , 0.        , 0.        , 0.00392157],\n",
              "        ...,\n",
              "        [0.        , 0.        , 0.        , 0.00392157],\n",
              "        [0.        , 0.        , 0.        , 0.00392157],\n",
              "        [0.        , 0.        , 0.        , 0.00392157]],\n",
              "\n",
              "       [[0.        , 0.        , 0.        , 0.00392157],\n",
              "        [0.        , 0.        , 0.        , 0.00392157],\n",
              "        [0.        , 0.        , 0.        , 0.00392157],\n",
              "        ...,\n",
              "        [0.        , 0.        , 0.        , 0.00392157],\n",
              "        [0.        , 0.        , 0.        , 0.00392157],\n",
              "        [0.        , 0.        , 0.        , 0.00392157]],\n",
              "\n",
              "       ...,\n",
              "\n",
              "       [[0.        , 0.        , 0.        , 0.00392157],\n",
              "        [0.        , 0.        , 0.        , 0.00392157],\n",
              "        [0.        , 0.        , 0.        , 0.00392157],\n",
              "        ...,\n",
              "        [0.        , 0.        , 0.        , 0.00392157],\n",
              "        [0.        , 0.        , 0.        , 0.00392157],\n",
              "        [0.        , 0.        , 0.        , 0.00392157]],\n",
              "\n",
              "       [[0.        , 0.        , 0.        , 0.00392157],\n",
              "        [0.        , 0.        , 0.        , 0.00392157],\n",
              "        [0.        , 0.        , 0.        , 0.00392157],\n",
              "        ...,\n",
              "        [0.        , 0.        , 0.        , 0.00392157],\n",
              "        [0.        , 0.        , 0.        , 0.00392157],\n",
              "        [0.        , 0.        , 0.        , 0.00392157]],\n",
              "\n",
              "       [[0.        , 0.        , 0.        , 0.00392157],\n",
              "        [0.        , 0.        , 0.        , 0.00392157],\n",
              "        [0.        , 0.        , 0.        , 0.00392157],\n",
              "        ...,\n",
              "        [0.        , 0.        , 0.        , 0.00392157],\n",
              "        [0.        , 0.        , 0.        , 0.00392157],\n",
              "        [0.        , 0.        , 0.        , 0.00392157]]])"
            ]
          },
          "metadata": {
            "tags": []
          },
          "execution_count": 167
        }
      ]
    },
    {
      "cell_type": "code",
      "metadata": {
        "id": "ecWLuImZOUhs",
        "colab_type": "code",
        "colab": {}
      },
      "source": [
        "x_train /= 255\n",
        "x_test /= 255"
      ],
      "execution_count": 0,
      "outputs": []
    },
    {
      "cell_type": "code",
      "metadata": {
        "id": "Eem_EcUukkpo",
        "colab_type": "code",
        "colab": {}
      },
      "source": [
        "def init_weights(m):\n",
        "    if isinstance(m, nn.Linear):\n",
        "      size = m.weight.size()\n",
        "      fan_out = size[0] # number of rows\n",
        "      fan_in = size[1] # number of columns\n",
        "      variance = np.sqrt(2.0/(fan_in))\n",
        "      m.weight.data.normal_(0.0, variance)\n",
        "      if m.bias is not None:\n",
        "        m.bias.data.fill_(0)\n",
        "        \n",
        "    elif isinstance(m, nn.Conv3d):\n",
        "        n = m.kernel_size[0] * m.kernel_size[1] * m.out_channels\n",
        "        m.weight.data.normal_(0, (2. / n)**.5)\n",
        "    elif isinstance(m, nn.BatchNorm3d):\n",
        "        m.weight.data.fill_(1)\n",
        "        m.bias.data.zero_()\n",
        "        \n",
        "    # elif isinstance(m, nn.Conv2d):\n",
        "    #   size = m.weight.size()\n",
        "    #   fan_out = size[0] # number of rows\n",
        "    #   fan_in = size[1] # number of columns\n",
        "    #   variance = np.sqrt(2.0/(fan_in))\n",
        "    #   m.weight.data.normal_(0.0, variance)\n",
        "    #   if m.bias is not None:\n",
        "    #     m.bias.data.fill_(0)\n",
        "\n",
        "#     if isinstance(m, nn.Conv2d):\n",
        "#         nn.init.kaiming_normal_(m.weight, mode='fan_out', nonlinearity='relu')\n",
        "#         if m.bias is not None:\n",
        "#             nn.init.constant_(m.bias, 0)\n",
        "#     elif isinstance(m, nn.BatchNorm2d):\n",
        "#         nn.init.constant_(m.weight, 1)\n",
        "#         nn.init.constant_(m.bias, 0)\n",
        "#     elif isinstance(m, nn.Linear):\n",
        "#         nn.init.normal_(m.weight, 0, 0.01)\n",
        "#         if m.bias is not None:\n",
        "#             nn.init.constant_(m.bias, 0)\n",
        "\n",
        "                   \n",
        "\n",
        "        \n",
        "        \n",
        "#     if isinstance(m, nn.Conv2d) or isinstance(m, nn.Linear):\n",
        "#         import scipy.stats as stats\n",
        "#         X = stats.truncnorm(-2, 2, scale=0.01)\n",
        "#         values = torch.as_tensor(X.rvs(m.weight.numel()), dtype=m.weight.dtype)\n",
        "#         values = values.view(m.weight.size())\n",
        "#         with torch.no_grad():\n",
        "#             m.weight.copy_(values)\n",
        "#     elif isinstance(m, nn.BatchNorm2d):\n",
        "#         nn.init.constant_(m.weight, 1)\n",
        "#         nn.init.constant_(m.bias, 0)"
      ],
      "execution_count": 0,
      "outputs": []
    },
    {
      "cell_type": "code",
      "metadata": {
        "id": "qQpNgHiKXgDw",
        "colab_type": "code",
        "colab": {}
      },
      "source": [
        "class LSTM(nn.Module):\n",
        "  def __init__(self, hidden, output_size, input_size, n_layers):\n",
        "    super(LSTM, self).__init__()\n",
        "    self.n_layers = n_layers\n",
        "    \n",
        "    self.lstm1 = nn.LSTM(input_size=input_size, hidden_size=hidden, num_layers=n_layers, batch_first=True)\n",
        "    self.linear1 = nn.Linear(hidden, hidden, bias=False)\n",
        "    self.bn1 = nn.BatchNorm2d(hidden)\n",
        "    self.linear2 = nn.Linear(hidden, output_size, bias=False)\n",
        "    self.bn2 = nn.BatchNorm2d(hidden)\n",
        "    self.relu = nn.ReLU(inplace=True)\n",
        "    self.drop = nn.Dropout(p=0.5, inplace=True)\n",
        "    self.softmax = nn.LogSoftmax(dim=1)\n",
        "    \n",
        "  def forward(self, x, h, c):\n",
        "    logit, (h, c) = self.lstm1(x, (h, c))\n",
        "    logit = self.linear1(logit)\n",
        "    logit = self.bn1(logit)\n",
        "    logit = self.relu(logit)\n",
        "    logit = self.drop(logit)\n",
        "    logit = self.bn2(self.linear2(logit))\n",
        "\n",
        "    pred = self.softmax(logit)\n",
        "    return logit, pred"
      ],
      "execution_count": 0,
      "outputs": []
    },
    {
      "cell_type": "code",
      "metadata": {
        "id": "nuF9IozcB1Fb",
        "colab_type": "code",
        "colab": {}
      },
      "source": [
        "batch_size = 32\n",
        "sequence = 10\n",
        "width = 100\n",
        "height = 150\n",
        "channel = 4\n",
        "hidden = 1024\n",
        "N = len(train_data) - (windows * sequence)\n",
        "input_size = 2326\n",
        "K = 3\n",
        "n_layers = 5\n",
        "model = LSTM(hidden, K, input_size, n_layers)\n",
        "model.cuda()\n",
        "model.apply(init_weights)\n",
        "\n",
        "epochs = 10000\n",
        "\n",
        "loss_fn = nn.CrossEntropyLoss()\n",
        "optimizer = torch.optim.Adam(model.parameters(), lr=0.001)\n",
        "scheduler = torch.optim.lr_scheduler.ReduceLROnPlateau(optimizer, 'min')\n",
        "train_loss = []\n",
        "test_loss = []\n",
        "for e in range(epochs):\n",
        "  model.train()\n",
        "  optimizer.zero_grad()\n",
        "  x_batch = np.zeros((batch_size, sequence, input_size))\n",
        "  y_batch = np.zeros((batch_size))\n",
        "  for b in range(batch_size):\n",
        "    x = np.zeros((sequence, input_size))\n",
        "    y = np.zeros((sequence))\n",
        "    index = np.random.randint(0, N)\n",
        "    #print(index)\n",
        "    for s in range(sequence):\n",
        "      #start = index\n",
        "      #end = start + windows\n",
        "      #print(start, ':', end)\n",
        "      #img = getImg(train_data.iloc[start:end])\n",
        "      #plt.imshow(img)\n",
        "      #plt.show()\n",
        "      #img = img.reshape(1, -1)\n",
        "      #img = scale.transform(img)\n",
        "      #img = pca.transform(img)\n",
        "      img = new_test_img[index]\n",
        "      #img = img.reshape(1, -1)\n",
        "      #print(img.shape)\n",
        "\n",
        "      x[s] = img\n",
        "      y[s] = y_train[index]\n",
        "      index += 1\n",
        "    x_batch[b] = x\n",
        "    y_batch[b] = y[-1]\n",
        "\n",
        "  x_batch = torch.FloatTensor(x_batch).cuda()\n",
        "  y_batch = torch.LongTensor(y_batch).cuda()\n",
        "  h0 = torch.zeros((n_layers, batch_size, hidden), dtype=torch.float32).cuda()\n",
        "  c0 = torch.zeros((n_layers, batch_size, hidden), dtype=torch.float32).cuda()\n",
        "  logit, pred = model(x_batch, h0, c0)\n",
        "  #print(logit[0,-1])\n",
        "  loss = loss_fn(logit[:,-1], y_batch)\n",
        "\n",
        "  train_loss.append(loss.item())\n",
        "\n",
        "  loss.backward()\n",
        "  optimizer.step()\n",
        "\n",
        "  model.eval()\n",
        "  test_count = 100\n",
        "  avg_loss = 0.0\n",
        "\n",
        "  for i in range(test_count):\n",
        "    x_batch_test = np.zeros((1, sequence, input_size))\n",
        "    y_batch_test = np.zeros((1))\n",
        "    index = np.random.randint(0, len(x_test_pca)-(windows * sequence))\n",
        "    x_t = np.zeros((sequence, input_size))\n",
        "    y_t = np.zeros((sequence))\n",
        "    for s in range(sequence):\n",
        "      x_t[s] = x_test_pca[index]\n",
        "      y_t[s] = y_test[index]\n",
        "      index += 1\n",
        "    #print(x.shape)\n",
        "    x_batch_test[0] = x_t\n",
        "    y_batch_test[0] = y_t[-1]\n",
        "    x_batch_test = torch.FloatTensor(x_batch_test).cuda()\n",
        "    y_batch_test = torch.LongTensor(y_batch_test).cuda()\n",
        "\n",
        "    h0 = torch.zeros((n_layers, 1, hidden), dtype=torch.float32).cuda()\n",
        "    c0 = torch.zeros((n_layers, 1, hidden), dtype=torch.float32).cuda()\n",
        "    logit, pred = model(x_batch_test, h0, c0)    \n",
        "    loss = loss_fn(logit[:,-1], y_batch_test)\n",
        "    avg_loss += loss.item() / test_count\n",
        "\n",
        "  test_loss.append(avg_loss)\n",
        "  scheduler.step(avg_loss)\n",
        "  if e % 10 == 0:\n",
        "    print(e, ' train: ', loss.item(), ' test: ', avg_loss)\n",
        "\n"
      ],
      "execution_count": 0,
      "outputs": []
    },
    {
      "cell_type": "code",
      "metadata": {
        "id": "OGxs-u1WtcWb",
        "colab_type": "code",
        "colab": {
          "base_uri": "https://localhost:8080/",
          "height": 269
        },
        "outputId": "bb87e825-66ab-48dd-c6cf-c1a153c83b69"
      },
      "source": [
        "plt.plot(train_loss)\n",
        "plt.plot(test_loss)\n",
        "plt.show()"
      ],
      "execution_count": 72,
      "outputs": [
        {
          "output_type": "display_data",
          "data": {
            "image/png": "[encoded data removed]",
            "text/plain": [
              "<Figure size 432x288 with 1 Axes>"
            ]
          },
          "metadata": {
            "tags": []
          }
        }
      ]
    },
    {
      "cell_type": "code",
      "metadata": {
        "id": "Ymx6jrFNZyi_",
        "colab_type": "code",
        "outputId": "9e820f27-d47e-494b-80b9-68a2bb69da45",
        "colab": {
          "base_uri": "https://localhost:8080/",
          "height": 34
        }
      },
      "source": [
        "y_train.shape"
      ],
      "execution_count": 25,
      "outputs": [
        {
          "output_type": "execute_result",
          "data": {
            "text/plain": [
              "(5982,)"
            ]
          },
          "metadata": {
            "tags": []
          },
          "execution_count": 25
        }
      ]
    },
    {
      "cell_type": "code",
      "metadata": {
        "id": "RwfmOCaOeJ96",
        "colab_type": "code",
        "outputId": "5b11e237-5479-4fd2-f3c1-5359ea83e4df",
        "colab": {
          "base_uri": "https://localhost:8080/",
          "height": 34
        }
      },
      "source": [
        "x_batch.shape"
      ],
      "execution_count": 0,
      "outputs": [
        {
          "output_type": "execute_result",
          "data": {
            "text/plain": [
              "tensor([ 3.4320, 10.1946,  1.5761], device='cuda:0', grad_fn=<SliceBackward>)"
            ]
          },
          "metadata": {
            "tags": []
          },
          "execution_count": 198
        }
      ]
    },
    {
      "cell_type": "code",
      "metadata": {
        "id": "tabvzQiOW2B5",
        "colab_type": "code",
        "outputId": "cbab350d-b7c9-42ef-9359-7bd48313118a",
        "colab": {
          "base_uri": "https://localhost:8080/",
          "height": 85
        }
      },
      "source": [
        "print(h0.shape)\n",
        "print(x_batch.shape)\n",
        "print(y_batch.shape)\n",
        "print(logit.shape)"
      ],
      "execution_count": 47,
      "outputs": [
        {
          "output_type": "stream",
          "text": [
            "torch.Size([1, 1, 128])\n",
            "torch.Size([1, 5, 2326])\n",
            "torch.Size([1])\n",
            "torch.Size([1, 5, 3])\n"
          ],
          "name": "stdout"
        }
      ]
    },
    {
      "cell_type": "code",
      "metadata": {
        "id": "VF6mRBouPcgE",
        "colab_type": "code",
        "outputId": "b4e24829-d731-4192-e0c0-d0699aa4f556",
        "colab": {
          "base_uri": "https://localhost:8080/",
          "height": 34
        }
      },
      "source": [
        "test_img = getImg(train_data.iloc[start:end])\n",
        "test_img.shape"
      ],
      "execution_count": 0,
      "outputs": [
        {
          "output_type": "execute_result",
          "data": {
            "text/plain": [
              "(100, 150, 4)"
            ]
          },
          "metadata": {
            "tags": []
          },
          "execution_count": 117
        }
      ]
    },
    {
      "cell_type": "code",
      "metadata": {
        "id": "Uaggj14oJ57C",
        "colab_type": "code",
        "outputId": "3575a8b3-f458-4dab-8568-a428af0ff9aa",
        "colab": {
          "base_uri": "https://localhost:8080/",
          "height": 286
        }
      },
      "source": [
        "plt.imshow(test_img)"
      ],
      "execution_count": 0,
      "outputs": [
        {
          "output_type": "execute_result",
          "data": {
            "text/plain": [
              "<matplotlib.image.AxesImage at 0x7fc179b6f278>"
            ]
          },
          "metadata": {
            "tags": []
          },
          "execution_count": 118
        },
        {
          "output_type": "display_data",
          "data": {
            "image/png": "[encoded data removed]",
            "text/plain": [
              "<Figure size 432x288 with 1 Axes>"
            ]
          },
          "metadata": {
            "tags": []
          }
        }
      ]
    },
    {
      "cell_type": "code",
      "metadata": {
        "id": "ak4WksuUVH_P",
        "colab_type": "code",
        "colab": {}
      },
      "source": [
        "test_img = test_img.reshape(1, -1)"
      ],
      "execution_count": 0,
      "outputs": []
    },
    {
      "cell_type": "code",
      "metadata": {
        "id": "lkPHOKMNVVSt",
        "colab_type": "code",
        "outputId": "62829ebd-067f-4110-d928-94dabaff778a",
        "colab": {
          "base_uri": "https://localhost:8080/",
          "height": 34
        }
      },
      "source": [
        "x_train.shape"
      ],
      "execution_count": 218,
      "outputs": [
        {
          "output_type": "execute_result",
          "data": {
            "text/plain": [
              "(5982, 100, 150, 4)"
            ]
          },
          "metadata": {
            "tags": []
          },
          "execution_count": 218
        }
      ]
    },
    {
      "cell_type": "code",
      "metadata": {
        "id": "gBKbGBRvy96X",
        "colab_type": "code",
        "colab": {
          "base_uri": "https://localhost:8080/",
          "height": 286
        },
        "outputId": "777ce9e7-6992-489f-b646-c04160f6c1ee"
      },
      "source": [
        "plt.imshow(x_train[0])"
      ],
      "execution_count": 217,
      "outputs": [
        {
          "output_type": "execute_result",
          "data": {
            "text/plain": [
              "<matplotlib.image.AxesImage at 0x7fc10aa80b70>"
            ]
          },
          "metadata": {
            "tags": []
          },
          "execution_count": 217
        },
        {
          "output_type": "display_data",
          "data": {
            "image/png": "[encoded data removed]",
            "text/plain": [
              "<Figure size 432x288 with 1 Axes>"
            ]
          },
          "metadata": {
            "tags": []
          }
        }
      ]
    },
    {
      "cell_type": "code",
      "metadata": {
        "id": "J5cPYE2fVCZ8",
        "colab_type": "code",
        "colab": {}
      },
      "source": [
        ""
      ],
      "execution_count": 0,
      "outputs": []
    },
    {
      "cell_type": "code",
      "metadata": {
        "id": "ZfXuRaPCze44",
        "colab_type": "code",
        "colab": {
          "base_uri": "https://localhost:8080/",
          "height": 34
        },
        "outputId": "e3482899-468c-4546-9871-73cc8677b00b"
      },
      "source": [
        "test_img.shape"
      ],
      "execution_count": 224,
      "outputs": [
        {
          "output_type": "execute_result",
          "data": {
            "text/plain": [
              "(1, 60000)"
            ]
          },
          "metadata": {
            "tags": []
          },
          "execution_count": 224
        }
      ]
    },
    {
      "cell_type": "code",
      "metadata": {
        "id": "eaV9ezCHVFEs",
        "colab_type": "code",
        "outputId": "e8eb733c-1997-4c64-d1d3-6c31a6364f93",
        "colab": {
          "base_uri": "https://localhost:8080/",
          "height": 249
        }
      },
      "source": [
        "scale = StandardScaler()\n",
        "pca = PCA(n_components=.99)\n",
        "\n",
        "x_train_scale = scale.fit_transform(x_train.reshape(len(x_train), -1))=\n",
        "x_train_pca = pca.fit_transform(x_train_scale)\n",
        "\n",
        "x_test_scale = scale.transform(x_test.reshape(len(x_test), -1))\n",
        "x_test_pca = pca.transform(x_test_scale)"
      ],
      "execution_count": 13,
      "outputs": [
        {
          "output_type": "stream",
          "text": [
            "W0810 09:23:26.378623 139758004795136 logs.py:14] api.fxcm.com:443/socket.io [connection error] recv disconnected ([Errno 32] Broken pipe)\n"
          ],
          "name": "stderr"
        },
        {
          "output_type": "stream",
          "text": [
            "(5982, 2326)\n"
          ],
          "name": "stdout"
        },
        {
          "output_type": "error",
          "ename": "ValueError",
          "evalue": "ignored",
          "traceback": [
            "\u001b[0;31m---------------------------------------------------------------------------\u001b[0m",
            "\u001b[0;31mValueError\u001b[0m                                Traceback (most recent call last)",
            "\u001b[0;32m<ipython-input-13-e61289ad55a9>\u001b[0m in \u001b[0;36m<module>\u001b[0;34m()\u001b[0m\n\u001b[1;32m      5\u001b[0m \u001b[0mnew_test_img\u001b[0m \u001b[0;34m=\u001b[0m \u001b[0mpca\u001b[0m\u001b[0;34m.\u001b[0m\u001b[0mfit_transform\u001b[0m\u001b[0;34m(\u001b[0m\u001b[0mtest_img\u001b[0m\u001b[0;34m)\u001b[0m\u001b[0;34m\u001b[0m\u001b[0;34m\u001b[0m\u001b[0m\n\u001b[1;32m      6\u001b[0m \u001b[0mprint\u001b[0m\u001b[0;34m(\u001b[0m\u001b[0mnew_test_img\u001b[0m\u001b[0;34m.\u001b[0m\u001b[0mshape\u001b[0m\u001b[0;34m)\u001b[0m\u001b[0;34m\u001b[0m\u001b[0;34m\u001b[0m\u001b[0m\n\u001b[0;32m----> 7\u001b[0;31m \u001b[0mplt\u001b[0m\u001b[0;34m.\u001b[0m\u001b[0mimshow\u001b[0m\u001b[0;34m(\u001b[0m\u001b[0mnew_test_img\u001b[0m\u001b[0;34m.\u001b[0m\u001b[0mreshape\u001b[0m\u001b[0;34m(\u001b[0m\u001b[0;36m1\u001b[0m\u001b[0;34m,\u001b[0m \u001b[0;36m100\u001b[0m\u001b[0;34m,\u001b[0m\u001b[0;36m150\u001b[0m\u001b[0;34m,\u001b[0m\u001b[0;36m4\u001b[0m\u001b[0;34m)\u001b[0m\u001b[0;34m)\u001b[0m\u001b[0;34m\u001b[0m\u001b[0;34m\u001b[0m\u001b[0m\n\u001b[0m\u001b[1;32m      8\u001b[0m \u001b[0mplt\u001b[0m\u001b[0;34m.\u001b[0m\u001b[0mshow\u001b[0m\u001b[0;34m(\u001b[0m\u001b[0;34m)\u001b[0m\u001b[0;34m\u001b[0m\u001b[0;34m\u001b[0m\u001b[0m\n",
            "\u001b[0;31mValueError\u001b[0m: cannot reshape array of size 13914132 into shape (1,100,150,4)"
          ]
        }
      ]
    },
    {
      "cell_type": "code",
      "metadata": {
        "id": "oHHkv7bl17mp",
        "colab_type": "code",
        "colab": {}
      },
      "source": [
        ""
      ],
      "execution_count": 0,
      "outputs": []
    },
    {
      "cell_type": "code",
      "metadata": {
        "id": "VIFLGFoAJzie",
        "colab_type": "code",
        "colab": {
          "base_uri": "https://localhost:8080/",
          "height": 34
        },
        "outputId": "479ccdb9-24bf-4799-ef6a-8b9b43332ea2"
      },
      "source": [
        "x_test_pca.shape"
      ],
      "execution_count": 36,
      "outputs": [
        {
          "output_type": "execute_result",
          "data": {
            "text/plain": [
              "(3987, 2326)"
            ]
          },
          "metadata": {
            "tags": []
          },
          "execution_count": 36
        }
      ]
    },
    {
      "cell_type": "code",
      "metadata": {
        "id": "o5mBBJRJJ0wy",
        "colab_type": "code",
        "colab": {
          "base_uri": "https://localhost:8080/",
          "height": 34
        },
        "outputId": "f2f20fad-96ea-486d-abd6-f66a00884cec"
      },
      "source": [
        "y_test.shape"
      ],
      "execution_count": 37,
      "outputs": [
        {
          "output_type": "execute_result",
          "data": {
            "text/plain": [
              "(3987,)"
            ]
          },
          "metadata": {
            "tags": []
          },
          "execution_count": 37
        }
      ]
    },
    {
      "cell_type": "code",
      "metadata": {
        "id": "3nuvG23gJJGW",
        "colab_type": "code",
        "colab": {}
      },
      "source": [
        "with open('/content/drive/My Drive/Colab Notebooks/pca.pickle', 'wb') as file:\n",
        "  pickle.dump(pca, file)\n",
        "with open('/content/drive/My Drive/Colab Notebooks/scale.pickle', 'wb') as file:\n",
        "  pickle.dump(scale, file)\n",
        "with open('/content/drive/My Drive/Colab Notebooks/x_train_pca.pickle', 'wb') as file:\n",
        "  pickle.dump(new_test_img, file)\n",
        "with open('/content/drive/My Drive/Colab Notebooks/x_test_pca.pickle', 'wb') as file:\n",
        "  pickle.dump(x_test_pca, file)"
      ],
      "execution_count": 0,
      "outputs": []
    },
    {
      "cell_type": "code",
      "metadata": {
        "id": "Nn6kDLJmJqDk",
        "colab_type": "code",
        "colab": {}
      },
      "source": [
        ""
      ],
      "execution_count": 0,
      "outputs": []
    },
    {
      "cell_type": "code",
      "metadata": {
        "id": "7BZkzscxIVEw",
        "colab_type": "code",
        "outputId": "c8eef446-7700-474f-cc4e-5139ff79a6f4",
        "colab": {
          "base_uri": "https://localhost:8080/",
          "height": 1000
        }
      },
      "source": [
        "  plt.imshow(x_batch[3][i])\n",
        "  plt.show()"
      ],
      "execution_count": 0,
      "outputs": [
        {
          "output_type": "display_data",
          "data": {
            "image/png": "[encoded data removed]",
            "text/plain": [
              "<Figure size 432x288 with 1 Axes>"
            ]
          },
          "metadata": {
            "tags": []
          }
        },
        {
          "output_type": "display_data",
          "data": {
            "image/png": "[encoded data removed]",
            "text/plain": [
              "<Figure size 432x288 with 1 Axes>"
            ]
          },
          "metadata": {
            "tags": []
          }
        },
        {
          "output_type": "display_data",
          "data": {
            "image/png": "[encoded data removed]",
            "text/plain": [
              "<Figure size 432x288 with 1 Axes>"
            ]
          },
          "metadata": {
            "tags": []
          }
        },
        {
          "output_type": "display_data",
          "data": {
            "image/png": "[encoded data removed]",
            "text/plain": [
              "<Figure size 432x288 with 1 Axes>"
            ]
          },
          "metadata": {
            "tags": []
          }
        },
        {
          "output_type": "display_data",
          "data": {
            "image/png": "[encoded data removed]",
            "text/plain": [
              "<Figure size 432x288 with 1 Axes>"
            ]
          },
          "metadata": {
            "tags": []
          }
        }
      ]
    }
  ]
}