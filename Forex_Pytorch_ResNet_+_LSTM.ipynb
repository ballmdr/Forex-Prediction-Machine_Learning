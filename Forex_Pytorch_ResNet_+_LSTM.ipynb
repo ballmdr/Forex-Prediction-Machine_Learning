{
  "nbformat": 4,
  "nbformat_minor": 0,
  "metadata": {
    "colab": {
      "name": "Forex Pytorch ResNet + LSTM.ipynb",
      "version": "0.3.2",
      "provenance": [],
      "collapsed_sections": [],
      "machine_shape": "hm",
      "include_colab_link": true
    },
    "kernelspec": {
      "name": "python3",
      "display_name": "Python 3"
    },
    "accelerator": "GPU"
  },
  "cells": [
    {
      "cell_type": "markdown",
      "metadata": {
        "id": "view-in-github",
        "colab_type": "text"
      },
      "source": [
        "<a href=\"https://colab.research.google.com/github/ballmdr/Forex-Prediction-Machine_Learning/blob/master/Forex_Pytorch_ResNet_%2B_LSTM.ipynb\" target=\"_parent\"><img src=\"https://colab.research.google.com/assets/colab-badge.svg\" alt=\"Open In Colab\"/></a>"
      ]
    },
    {
      "cell_type": "code",
      "metadata": {
        "id": "GTr87mQimrTu",
        "colab_type": "code",
        "outputId": "c6bf0482-9ddf-4c74-dc6f-2428dfc7a53b",
        "colab": {
          "base_uri": "https://localhost:8080/",
          "height": 272
        }
      },
      "source": [
        "!pip install fxcmpy"
      ],
      "execution_count": 1,
      "outputs": [
        {
          "output_type": "stream",
          "text": [
            "Requirement already satisfied: fxcmpy in /usr/local/lib/python3.6/dist-packages (1.2.4)\n",
            "Requirement already satisfied: socketIO-client in /usr/local/lib/python3.6/dist-packages (from fxcmpy) (0.7.2)\n",
            "Requirement already satisfied: configparser in /usr/local/lib/python3.6/dist-packages (from fxcmpy) (3.7.4)\n",
            "Requirement already satisfied: pandas in /usr/local/lib/python3.6/dist-packages (from fxcmpy) (0.24.2)\n",
            "Requirement already satisfied: requests[socks] in /usr/local/lib/python3.6/dist-packages (from fxcmpy) (2.21.0)\n",
            "Requirement already satisfied: six in /usr/local/lib/python3.6/dist-packages (from socketIO-client->fxcmpy) (1.12.0)\n",
            "Requirement already satisfied: websocket-client in /usr/local/lib/python3.6/dist-packages (from socketIO-client->fxcmpy) (0.56.0)\n",
            "Requirement already satisfied: numpy>=1.12.0 in /usr/local/lib/python3.6/dist-packages (from pandas->fxcmpy) (1.16.4)\n",
            "Requirement already satisfied: pytz>=2011k in /usr/local/lib/python3.6/dist-packages (from pandas->fxcmpy) (2018.9)\n",
            "Requirement already satisfied: python-dateutil>=2.5.0 in /usr/local/lib/python3.6/dist-packages (from pandas->fxcmpy) (2.5.3)\n",
            "Requirement already satisfied: idna<2.9,>=2.5 in /usr/local/lib/python3.6/dist-packages (from requests[socks]->fxcmpy) (2.8)\n",
            "Requirement already satisfied: urllib3<1.25,>=1.21.1 in /usr/local/lib/python3.6/dist-packages (from requests[socks]->fxcmpy) (1.24.3)\n",
            "Requirement already satisfied: chardet<3.1.0,>=3.0.2 in /usr/local/lib/python3.6/dist-packages (from requests[socks]->fxcmpy) (3.0.4)\n",
            "Requirement already satisfied: certifi>=2017.4.17 in /usr/local/lib/python3.6/dist-packages (from requests[socks]->fxcmpy) (2019.6.16)\n",
            "Requirement already satisfied: PySocks!=1.5.7,>=1.5.6; extra == \"socks\" in /usr/local/lib/python3.6/dist-packages (from requests[socks]->fxcmpy) (1.7.0)\n"
          ],
          "name": "stdout"
        }
      ]
    },
    {
      "cell_type": "code",
      "metadata": {
        "id": "KB2wBmhcwl_A",
        "colab_type": "code",
        "outputId": "33306c92-ad4b-4e7e-852c-3cae358579dd",
        "colab": {
          "base_uri": "https://localhost:8080/",
          "height": 34
        }
      },
      "source": [
        "import torch\n",
        "import torch.nn as nn\n",
        "import torch.nn.functional as F\n",
        "from torch.autograd import Variable\n",
        "from torch.utils.data import DataLoader\n",
        "import fxcmpy\n",
        "import pandas as pd\n",
        "import numpy as np\n",
        "from sklearn.preprocessing import MinMaxScaler, StandardScaler\n",
        "from sklearn.decomposition import PCA\n",
        "from sklearn.model_selection import train_test_split\n",
        "import matplotlib.pyplot as plt\n",
        "from tensorflow.keras.utils import to_categorical\n",
        "import skimage as sk\n",
        "from skimage.transform import resize\n",
        "import pywt\n",
        "import pickle\n",
        "from pandas.plotting import register_matplotlib_converters\n",
        "register_matplotlib_converters()\n",
        "from google.colab import drive\n",
        "drive.mount('/content/drive')\n",
        "\n",
        "def connect():\n",
        "    return fxcmpy.fxcmpy(access_token=access_token, server=server)"
      ],
      "execution_count": 35,
      "outputs": [
        {
          "output_type": "stream",
          "text": [
            "Drive already mounted at /content/drive; to attempt to forcibly remount, call drive.mount(\"/content/drive\", force_remount=True).\n"
          ],
          "name": "stdout"
        }
      ]
    },
    {
      "cell_type": "code",
      "metadata": {
        "id": "TK4QhqlJ46Ob",
        "colab_type": "code",
        "outputId": "7e7db106-93cd-4fc3-ccfa-fe2c6d0b2e8a",
        "colab": {
          "base_uri": "https://localhost:8080/",
          "height": 191
        }
      },
      "source": [
        "con = connect()"
      ],
      "execution_count": 0,
      "outputs": [
        {
          "output_type": "stream",
          "text": [
            "WARNING: Logging before flag parsing goes to stderr.\n",
            "W0805 05:47:56.095273 139779844626304 fxcmpy.py:222] Default account set to 96112465, to change use set_default_account().\n"
          ],
          "name": "stderr"
        }
      ]
    },
    {
      "cell_type": "code",
      "metadata": {
        "id": "um-6M_LNw0Rv",
        "colab_type": "code",
        "colab": {}
      },
      "source": [
        "access_token = '757cf3bec951c194aaa61c9db954c6533d251f2f'\n",
        "server = 'real'\n",
        "symbol = 'EURUSD'\n",
        "symbol2 = 'EUR/USD'\n",
        "timeframe = 'H1'\n",
        "windows = 6\n",
        "target_windows = 3\n",
        "digits = 10000\n",
        "ratio = 10\n",
        "n_prices = 10000\n",
        "K = 3"
      ],
      "execution_count": 0,
      "outputs": []
    },
    {
      "cell_type": "code",
      "metadata": {
        "id": "FFmL-2Xe4p_S",
        "colab_type": "code",
        "colab": {}
      },
      "source": [
        "def dfProcess(df):\n",
        "# Short-Term\n",
        "# ใช้ค่า 3, 5, 8, 10, 12, or 15.\n",
        "# Long-Term\n",
        "# ใช้ค่า 30, 35, 40, 45, 50, or 60.\n",
        "  df['ma3'] = np.round(df.close.rolling(3).mean(), 5)\n",
        "  df['ma5'] = np.round(df.close.rolling(5).mean(), 5)\n",
        "  df['ma8'] = np.round(df.close.rolling(8).mean(), 5)\n",
        "  df['ma10'] = np.round(df.close.rolling(10).mean(), 5)\n",
        "  df['ma12'] = np.round(df.close.rolling(12).mean(), 5)\n",
        "  df['ma15'] = np.round(df.close.rolling(15).mean(), 5)\n",
        "  #df['ma20'] = np.round(df.close.rolling(20).mean(), 5)\n",
        "  #df['ma7_shift3'] = df.ma7.shift(-3)\n",
        "  #df['ma10_shift3'] = df.ma10.shift(-3)\n",
        "  #df['close_shift3'] = df.close.shift(-3)\n",
        "  df['close_diff_pip'] = - df.close.diff(-target_windows) * digits\n",
        "  \n",
        "  arr = ['0', '1', '2' ]\n",
        "  for i in range(1, target_windows):\n",
        "    df[arr[i]] = - df.close.diff(-i) * digits\n",
        "    \n",
        "  df.dropna(inplace=True)\n",
        "\n",
        "  #df['close_target_percent'] = np.round((df['close_diff_pip']*digits)/df.close, 2) * 100\n",
        "  #df['7_10_target_percent'] = np.round(((df['ma7_shift3']-df['ma10_shift3'])*digits)/df['ma10_shift3'], 2)\n",
        "  #df['5_7_target_percent'] = np.round(((df.ma5-df.ma7)*digits)/df.ma7, 2)\n",
        "  \n",
        "\n",
        "  df['Target'] = np.ones(len(df))\n",
        "  # df['Target'].loc[(df['close_target_percent'] > 9) & (df['7_10_target_percent'] > 1) & (df['5_7_target_percent'] > 1)] = 2\n",
        "  # df['Target'].loc[(df['close_target_percent'] < -9) & (df['7_10_target_percent'] < -1) & (df['5_7_target_percent'] < -1)] = 0\n",
        "  df['Target'].loc[(df['close_diff_pip'] > ratio) &\n",
        "                   (df['1'] > -ratio) &\n",
        "                   (df['2'] > -ratio) \n",
        "                  ] = 2\n",
        "  df['Target'].loc[(df['close_diff_pip'] < -ratio) &\n",
        "                   (df['1'] < ratio) &\n",
        "                   (df['2'] < ratio)                \n",
        "                  ] = 0\n",
        "  print(df.Target.value_counts())\n",
        "  \n",
        "  # df['returns'] = df.close.pct_change(1)\n",
        "  # df['returns_5'] = df.close.pct_change(5)\n",
        "  # df['log_return'] = np.log(df.returns)\n",
        "  # df['log_return_5'] = np.log(df.returns_5)\n",
        "  \n",
        "  #df.drop(['bidopen', 'bidclose', 'bidhigh', 'askopen', 'askclose', 'askhigh', 'bidlow', 'asklow', 'tickqty', 'close_diff_pip', '1', '2', '3', '4'], axis=1, inplace=True)\n",
        "  df.dropna(inplace=True)\n",
        "  print(df.head())\n",
        "  print(df.shape)\n",
        "  \n",
        "  print(df.info())\n",
        "  \n",
        "  return df\n",
        "\n",
        "\n",
        "def getXY(df, windows):\n",
        "\n",
        "  X = []\n",
        "  Y = []\n",
        "  for i in range(len(df)-(windows+1)):\n",
        "    plt.style.use('dark_background')\n",
        "    fig = plt.figure(frameon=False) \n",
        "    fig.set_size_inches(3,2)\n",
        "    ax = plt.Axes(fig, [0., 0., 1., 1.])\n",
        "    ax.set_axis_off()\n",
        "    fig.add_axes(ax)\n",
        "\n",
        "    _df = df.iloc[i:windows]\n",
        "    plt.plot(_df.ma3, color='red')\n",
        "    plt.plot(_df.ma5, color='blue')\n",
        "    plt.plot(_df.ma8, color='green')\n",
        "    plt.plot(_df.ma10, color='orange')\n",
        "    plt.plot(_df.ma12, color='black')\n",
        "    plt.plot(_df.ma15, color='purple')\n",
        "    #plt.plot(_df.open, color='black')\n",
        "   # plt.plot(_df.close, color='purple')\n",
        "\n",
        "    plt.savefig('tmp2.png')\n",
        "\n",
        "    plt.close()\n",
        "\n",
        "    img = plt.imread('tmp2.png')\n",
        "    new_img = resize(img, (100,150))\n",
        "    #print(new_img.shape)\n",
        "    if i % 1000 == 0:\n",
        "      print(i)\n",
        "      plt.imshow(new_img)\n",
        "      plt.show()\n",
        "      print(i, ' - ', windows)\n",
        "      print('target: ', df.Target.iloc[windows-1])\n",
        "    X.append(new_img)\n",
        "    Y.append(df.Target.iloc[windows-1])\n",
        "\n",
        "    windows += 1\n",
        "\n",
        "  return X, Y\n"
      ],
      "execution_count": 0,
      "outputs": []
    },
    {
      "cell_type": "code",
      "metadata": {
        "id": "TDLP_ke1YUaD",
        "colab_type": "code",
        "colab": {}
      },
      "source": [
        "def calScore(y_true, y_pred, e):\n",
        "  #unique, counts = np.unique(np.argmax(y_pred, axis=1), return_counts=True)\n",
        "  #print(np.asarray((unique, counts)).T)\n",
        "\n",
        "  if type(y_true) == list or type(y_pred) == list:\n",
        "    y_true = np.array(y_true)\n",
        "    y_pred = np.array(y_pred)\n",
        "\n",
        "  y_0 = np.where(y_true == 0.0)\n",
        "  y_1 = np.where(y_true == 1.0)\n",
        "  y_2 = np.where(y_true == 2.0)\n",
        "  # y_3 = np.where(y_test == 3.0)\n",
        "  # y_4 = np.where(y_test == 4.0)\n",
        "\n",
        "  pred_0 = []\n",
        "  pred_1 = []\n",
        "  pred_2 = []\n",
        "\n",
        "  for i in y_0[0]:\n",
        "    pred_0.append(y_pred[i])\n",
        "  for i in y_1[0]:\n",
        "    pred_1.append(y_pred[i])\n",
        "  for i in y_2[0]:\n",
        "    pred_2.append(y_pred[i])\n",
        "  # for i in y_3[0]:\n",
        "  #   x_3.append(x_test[i])\n",
        "  # for i in y_4[0]:\n",
        "  #   x_4.append(x_test[i])\n",
        "\n",
        "  pred_0 = np.array(pred_0)\n",
        "  pred_1 = np.array(pred_1)\n",
        "  pred_2 = np.array(pred_2)\n",
        "\n",
        "  #acc1\n",
        "  trade_acc0 = len(pred_0[pred_0==0]) + len(pred_0[pred_0==2])\n",
        "  acc0_win = len(pred_0[pred_0==0])\n",
        "  acc0_loss = len(pred_0[pred_0==2])\n",
        "\n",
        "  #acc2\n",
        "  trade_acc2 = len(pred_2[pred_2==0]) + len(pred_2[pred_2==2])\n",
        "  acc2_win = len(pred_2[pred_2==2])\n",
        "  acc2_loss = len(pred_2[pred_2==0])\n",
        "\n",
        "  #acc1\n",
        "  trade_acc1 = len(pred_1[pred_1==0]) + len(pred_1[pred_1==2])\n",
        "  acc1_loss = trade_acc1\n",
        "  total_trade = trade_acc0 + trade_acc1 + trade_acc2\n",
        "  \n",
        "  win_rate = 0.0\n",
        "  loss_rate = 0.0\n",
        "  if total_trade > 0:\n",
        "    win_rate = (acc0_win + acc2_win) / total_trade * 100\n",
        "    loss_rate = (acc0_loss + acc1_loss + acc2_loss) / total_trade * 100\n",
        "\n",
        "  rr = 0.0\n",
        "  if loss_rate > 0:\n",
        "    rr = win_rate / loss_rate\n",
        "\n",
        "  if e % 10 == 0:\n",
        "    print(\"Trade acc0: \", trade_acc0)\n",
        "    print('acc0 win: ', acc0_win)\n",
        "    print('acc0 loss: ', acc0_loss)\n",
        "    print('------')\n",
        "    print(\"Trade acc2: \", trade_acc2)\n",
        "    print('acc2 win: ', acc2_win)\n",
        "    print('acc2 loss: ', acc2_loss)\n",
        "    print('------')\n",
        "    print(\"Trade acc1: \", trade_acc1)\n",
        "    print('acc1 loss: ', acc1_loss)\n",
        "    print('------')\n",
        "    print(\"total trade: \", total_trade)\n",
        "    print('rr: ', rr)\n",
        "    print('win rate: ', np.round(win_rate, 2))\n",
        "    print('loss rate:', np.round(loss_rate, 2))\n",
        "    print('pred_0 max: ', pred_0.max())\n",
        "    print('pred_2 min: ', pred_2.min())\n",
        "\n",
        "  return rr, pred_0, pred_2"
      ],
      "execution_count": 0,
      "outputs": []
    },
    {
      "cell_type": "code",
      "metadata": {
        "id": "SnqjLTdB4rRQ",
        "colab_type": "code",
        "outputId": "66e793f4-af36-462b-e5f8-3bca8cad40f5",
        "colab": {
          "base_uri": "https://localhost:8080/",
          "height": 232
        }
      },
      "source": [
        "df = con.get_candles(symbol2, period=timeframe, number=n_prices)\n",
        "df['close'] = (df.bidclose + df.askclose) / 2\n",
        "df = dfProcess(df)\n",
        "\n",
        "#df['close'] = (df.close - df.close.mean()) / (df.close.max() - df.close.min())\n",
        "#print(df['close'].head())\n",
        "#df = df[~df.isin([np.nan, np.inf, -np.inf]).any(1)]\n",
        "\n",
        "\n",
        "\n",
        "# pca = PCA(n_components=.90)\n",
        "# train_data = pca.fit_transform(train_data)\n",
        "# test_data = pca.transform(test_data)\n",
        "\n",
        "# scale = StandardScaler()\n",
        "# minmax = MinMaxScaler()\n",
        "# train_data = minmax.fit_transform(train_data)\n",
        "# test_data = minmax.transform(test_data)\n"
      ],
      "execution_count": 6,
      "outputs": [
        {
          "output_type": "error",
          "ename": "NameError",
          "evalue": "ignored",
          "traceback": [
            "\u001b[0;31m---------------------------------------------------------------------------\u001b[0m",
            "\u001b[0;31mNameError\u001b[0m                                 Traceback (most recent call last)",
            "\u001b[0;32m<ipython-input-6-eb162af375c6>\u001b[0m in \u001b[0;36m<module>\u001b[0;34m()\u001b[0m\n\u001b[0;32m----> 1\u001b[0;31m \u001b[0mdf\u001b[0m \u001b[0;34m=\u001b[0m \u001b[0mcon\u001b[0m\u001b[0;34m.\u001b[0m\u001b[0mget_candles\u001b[0m\u001b[0;34m(\u001b[0m\u001b[0msymbol2\u001b[0m\u001b[0;34m,\u001b[0m \u001b[0mperiod\u001b[0m\u001b[0;34m=\u001b[0m\u001b[0mtimeframe\u001b[0m\u001b[0;34m,\u001b[0m \u001b[0mnumber\u001b[0m\u001b[0;34m=\u001b[0m\u001b[0mn_prices\u001b[0m\u001b[0;34m)\u001b[0m\u001b[0;34m\u001b[0m\u001b[0;34m\u001b[0m\u001b[0m\n\u001b[0m\u001b[1;32m      2\u001b[0m \u001b[0mdf\u001b[0m\u001b[0;34m[\u001b[0m\u001b[0;34m'close'\u001b[0m\u001b[0;34m]\u001b[0m \u001b[0;34m=\u001b[0m \u001b[0;34m(\u001b[0m\u001b[0mdf\u001b[0m\u001b[0;34m.\u001b[0m\u001b[0mbidclose\u001b[0m \u001b[0;34m+\u001b[0m \u001b[0mdf\u001b[0m\u001b[0;34m.\u001b[0m\u001b[0maskclose\u001b[0m\u001b[0;34m)\u001b[0m \u001b[0;34m/\u001b[0m \u001b[0;36m2\u001b[0m\u001b[0;34m\u001b[0m\u001b[0;34m\u001b[0m\u001b[0m\n\u001b[1;32m      3\u001b[0m \u001b[0mdf\u001b[0m \u001b[0;34m=\u001b[0m \u001b[0mdfProcess\u001b[0m\u001b[0;34m(\u001b[0m\u001b[0mdf\u001b[0m\u001b[0;34m)\u001b[0m\u001b[0;34m\u001b[0m\u001b[0;34m\u001b[0m\u001b[0m\n\u001b[1;32m      4\u001b[0m \u001b[0;34m\u001b[0m\u001b[0m\n\u001b[1;32m      5\u001b[0m \u001b[0;31m#df['close'] = (df.close - df.close.mean()) / (df.close.max() - df.close.min())\u001b[0m\u001b[0;34m\u001b[0m\u001b[0;34m\u001b[0m\u001b[0;34m\u001b[0m\u001b[0m\n",
            "\u001b[0;31mNameError\u001b[0m: name 'con' is not defined"
          ]
        }
      ]
    },
    {
      "cell_type": "code",
      "metadata": {
        "id": "QnyXQ_T0RH5s",
        "colab_type": "code",
        "outputId": "3f750a44-7eda-4393-c408-84f7b5e83489",
        "colab": {
          "base_uri": "https://localhost:8080/",
          "height": 1000
        }
      },
      "source": [
        "split = int(len(df) * 0.60)\n",
        "train_data = df.iloc[:split]\n",
        "test_data = df.iloc[split:]\n",
        "\n",
        "x_train, y_train = getXY(train_data, windows)\n",
        "x_test, y_test = getXY(test_data, windows)"
      ],
      "execution_count": 0,
      "outputs": [
        {
          "output_type": "stream",
          "text": [
            "0\n"
          ],
          "name": "stdout"
        },
        {
          "output_type": "display_data",
          "data": {
            "image/png": "[encoded data removed]",
            "text/plain": [
              "<Figure size 432x288 with 1 Axes>"
            ]
          },
          "metadata": {
            "tags": []
          }
        },
        {
          "output_type": "stream",
          "text": [
            "0  -  6\n",
            "target:  2.0\n",
            "1000\n"
          ],
          "name": "stdout"
        },
        {
          "output_type": "display_data",
          "data": {
            "image/png": "[encoded data removed]",
            "text/plain": [
              "<Figure size 432x288 with 1 Axes>"
            ]
          },
          "metadata": {
            "tags": []
          }
        },
        {
          "output_type": "stream",
          "text": [
            "1000  -  1006\n",
            "target:  1.0\n",
            "2000\n"
          ],
          "name": "stdout"
        },
        {
          "output_type": "display_data",
          "data": {
            "image/png": "[encoded data removed]",
            "text/plain": [
              "<Figure size 432x288 with 1 Axes>"
            ]
          },
          "metadata": {
            "tags": []
          }
        },
        {
          "output_type": "stream",
          "text": [
            "2000  -  2006\n",
            "target:  0.0\n",
            "3000\n"
          ],
          "name": "stdout"
        },
        {
          "output_type": "display_data",
          "data": {
            "image/png": "[encoded data removed]",
            "text/plain": [
              "<Figure size 432x288 with 1 Axes>"
            ]
          },
          "metadata": {
            "tags": []
          }
        },
        {
          "output_type": "stream",
          "text": [
            "3000  -  3006\n",
            "target:  0.0\n",
            "4000\n"
          ],
          "name": "stdout"
        },
        {
          "output_type": "display_data",
          "data": {
            "image/png": "[encoded data removed]",
            "text/plain": [
              "<Figure size 432x288 with 1 Axes>"
            ]
          },
          "metadata": {
            "tags": []
          }
        },
        {
          "output_type": "stream",
          "text": [
            "4000  -  4006\n",
            "target:  1.0\n",
            "5000\n"
          ],
          "name": "stdout"
        },
        {
          "output_type": "display_data",
          "data": {
            "image/png": "[encoded data removed]",
            "text/plain": [
              "<Figure size 432x288 with 1 Axes>"
            ]
          },
          "metadata": {
            "tags": []
          }
        },
        {
          "output_type": "stream",
          "text": [
            "5000  -  5006\n",
            "target:  1.0\n",
            "0\n"
          ],
          "name": "stdout"
        },
        {
          "output_type": "display_data",
          "data": {
            "image/png": "[encoded data removed]",
            "text/plain": [
              "<Figure size 432x288 with 1 Axes>"
            ]
          },
          "metadata": {
            "tags": []
          }
        },
        {
          "output_type": "stream",
          "text": [
            "0  -  6\n",
            "target:  1.0\n",
            "1000\n"
          ],
          "name": "stdout"
        },
        {
          "output_type": "display_data",
          "data": {
            "image/png": "[encoded data removed]",
            "text/plain": [
              "<Figure size 432x288 with 1 Axes>"
            ]
          },
          "metadata": {
            "tags": []
          }
        },
        {
          "output_type": "stream",
          "text": [
            "1000  -  1006\n",
            "target:  1.0\n",
            "2000\n"
          ],
          "name": "stdout"
        },
        {
          "output_type": "display_data",
          "data": {
            "image/png": "[encoded data removed]",
            "text/plain": [
              "<Figure size 432x288 with 1 Axes>"
            ]
          },
          "metadata": {
            "tags": []
          }
        },
        {
          "output_type": "stream",
          "text": [
            "2000  -  2006\n",
            "target:  1.0\n",
            "3000\n"
          ],
          "name": "stdout"
        },
        {
          "output_type": "display_data",
          "data": {
            "image/png": "[encoded data removed]",
            "text/plain": [
              "<Figure size 432x288 with 1 Axes>"
            ]
          },
          "metadata": {
            "tags": []
          }
        },
        {
          "output_type": "stream",
          "text": [
            "3000  -  3006\n",
            "target:  2.0\n"
          ],
          "name": "stdout"
        }
      ]
    },
    {
      "cell_type": "code",
      "metadata": {
        "id": "PzMXwVKercVI",
        "colab_type": "code",
        "colab": {}
      },
      "source": [
        "with open('/content/drive/My Drive/Colab Notebooks/x_train_' + symbol + '_' + timeframe + '_' + str(n_prices) + '.pickle', 'wb') as file:\n",
        "  pickle.dump(x_train, file)\n",
        "with open('/content/drive/My Drive/Colab Notebooks/y_train_' + symbol + '_' + timeframe + '_' + str(n_prices) + '.pickle', 'wb') as file:\n",
        "  pickle.dump(y_train, file)\n",
        "with open('/content/drive/My Drive/Colab Notebooks/x_test_' + symbol + '_' + timeframe + '_' + str(n_prices) + '.pickle', 'wb') as file:\n",
        "  pickle.dump(x_test, file)\n",
        "with open('/content/drive/My Drive/Colab Notebooks/y_test_' + symbol + '_' + timeframe + '_' + str(n_prices) + '.pickle', 'wb') as file:\n",
        "  pickle.dump(y_test, file)"
      ],
      "execution_count": 0,
      "outputs": []
    },
    {
      "cell_type": "code",
      "metadata": {
        "id": "Q91xvlbatv3P",
        "colab_type": "code",
        "colab": {}
      },
      "source": [
        "with open('/content/drive/My Drive/Colab Notebooks/x_train_' + symbol + '_' + timeframe + '_' + str(n_prices) + '.pickle', 'rb') as file:\n",
        "  x_train = pickle.load(file)\n",
        "with open('/content/drive/My Drive/Colab Notebooks/y_train_' + symbol + '_' + timeframe + '_' + str(n_prices) + '.pickle', 'rb') as file:\n",
        "  y_train = pickle.load(file)\n",
        "with open('/content/drive/My Drive/Colab Notebooks/x_test_' + symbol + '_' + timeframe + '_' + str(n_prices) + '.pickle', 'rb') as file:\n",
        "  x_test = pickle.load(file)\n",
        "with open('/content/drive/My Drive/Colab Notebooks/y_test_' + symbol + '_' + timeframe + '_' + str(n_prices) + '.pickle', 'rb') as file:\n",
        "  y_test = pickle.load(file)"
      ],
      "execution_count": 0,
      "outputs": []
    },
    {
      "cell_type": "code",
      "metadata": {
        "id": "QHozEfBU2QSj",
        "colab_type": "code",
        "colab": {}
      },
      "source": [
        "x_train = np.array(x_train)\n",
        "x_test = np.array(x_test)\n",
        "y_train = np.array(y_train)\n",
        "y_test = np.array(y_test)"
      ],
      "execution_count": 0,
      "outputs": []
    },
    {
      "cell_type": "code",
      "metadata": {
        "id": "qN7K3T7Zuf6d",
        "colab_type": "code",
        "outputId": "cd78a2bd-5eb4-4156-f933-e99e64c6c52d",
        "colab": {
          "base_uri": "https://localhost:8080/",
          "height": 269
        }
      },
      "source": [
        "idx = np.random.randint(0, len(x_test)-1)\n",
        "plt.imshow(x_test[idx])\n",
        "plt.show()"
      ],
      "execution_count": 19,
      "outputs": [
        {
          "output_type": "display_data",
          "data": {
            "image/png": "[encoded data removed]",
            "text/plain": [
              "<Figure size 432x288 with 1 Axes>"
            ]
          },
          "metadata": {
            "tags": []
          }
        }
      ]
    },
    {
      "cell_type": "code",
      "metadata": {
        "id": "Bkzu0d-tXm9k",
        "colab_type": "code",
        "outputId": "6492ea95-a30a-44b2-dcbb-f9e4a2fee973",
        "colab": {
          "base_uri": "https://localhost:8080/",
          "height": 850
        }
      },
      "source": [
        "x_test[0]"
      ],
      "execution_count": 0,
      "outputs": [
        {
          "output_type": "execute_result",
          "data": {
            "text/plain": [
              "array([[[0.        , 0.        , 0.        , 0.00392157],\n",
              "        [0.        , 0.        , 0.        , 0.00392157],\n",
              "        [0.        , 0.        , 0.        , 0.00392157],\n",
              "        ...,\n",
              "        [0.        , 0.        , 0.        , 0.00392157],\n",
              "        [0.        , 0.        , 0.        , 0.00392157],\n",
              "        [0.        , 0.        , 0.        , 0.00392157]],\n",
              "\n",
              "       [[0.        , 0.        , 0.        , 0.00392157],\n",
              "        [0.        , 0.        , 0.        , 0.00392157],\n",
              "        [0.        , 0.        , 0.        , 0.00392157],\n",
              "        ...,\n",
              "        [0.        , 0.        , 0.        , 0.00392157],\n",
              "        [0.        , 0.        , 0.        , 0.00392157],\n",
              "        [0.        , 0.        , 0.        , 0.00392157]],\n",
              "\n",
              "       [[0.        , 0.        , 0.        , 0.00392157],\n",
              "        [0.        , 0.        , 0.        , 0.00392157],\n",
              "        [0.        , 0.        , 0.        , 0.00392157],\n",
              "        ...,\n",
              "        [0.        , 0.        , 0.        , 0.00392157],\n",
              "        [0.        , 0.        , 0.        , 0.00392157],\n",
              "        [0.        , 0.        , 0.        , 0.00392157]],\n",
              "\n",
              "       ...,\n",
              "\n",
              "       [[0.        , 0.        , 0.        , 0.00392157],\n",
              "        [0.        , 0.        , 0.        , 0.00392157],\n",
              "        [0.        , 0.        , 0.        , 0.00392157],\n",
              "        ...,\n",
              "        [0.        , 0.        , 0.        , 0.00392157],\n",
              "        [0.        , 0.        , 0.        , 0.00392157],\n",
              "        [0.        , 0.        , 0.        , 0.00392157]],\n",
              "\n",
              "       [[0.        , 0.        , 0.        , 0.00392157],\n",
              "        [0.        , 0.        , 0.        , 0.00392157],\n",
              "        [0.        , 0.        , 0.        , 0.00392157],\n",
              "        ...,\n",
              "        [0.        , 0.        , 0.        , 0.00392157],\n",
              "        [0.        , 0.        , 0.        , 0.00392157],\n",
              "        [0.        , 0.        , 0.        , 0.00392157]],\n",
              "\n",
              "       [[0.        , 0.        , 0.        , 0.00392157],\n",
              "        [0.        , 0.        , 0.        , 0.00392157],\n",
              "        [0.        , 0.        , 0.        , 0.00392157],\n",
              "        ...,\n",
              "        [0.        , 0.        , 0.        , 0.00392157],\n",
              "        [0.        , 0.        , 0.        , 0.00392157],\n",
              "        [0.        , 0.        , 0.        , 0.00392157]]])"
            ]
          },
          "metadata": {
            "tags": []
          },
          "execution_count": 11
        }
      ]
    },
    {
      "cell_type": "code",
      "metadata": {
        "id": "ecWLuImZOUhs",
        "colab_type": "code",
        "colab": {}
      },
      "source": [
        "x_train /= 255\n",
        "x_test /= 255"
      ],
      "execution_count": 0,
      "outputs": []
    },
    {
      "cell_type": "code",
      "metadata": {
        "id": "Eem_EcUukkpo",
        "colab_type": "code",
        "colab": {}
      },
      "source": [
        "def init_weights(m):\n",
        "    # if isinstance(m, nn.Linear):\n",
        "    #   size = m.weight.size()\n",
        "    #   fan_out = size[0] # number of rows\n",
        "    #   fan_in = size[1] # number of columns\n",
        "    #   variance = np.sqrt(2.0/(fan_in))\n",
        "    #   m.weight.data.normal_(0.0, variance)\n",
        "    #   if m.bias is not None:\n",
        "    #     m.bias.data.fill_(0)\n",
        "    # elif isinstance(m, nn.Conv2d):\n",
        "    #   size = m.weight.size()\n",
        "    #   fan_out = size[0] # number of rows\n",
        "    #   fan_in = size[1] # number of columns\n",
        "    #   variance = np.sqrt(2.0/(fan_in))\n",
        "    #   m.weight.data.normal_(0.0, variance)\n",
        "    #   if m.bias is not None:\n",
        "    #     m.bias.data.fill_(0)\n",
        "\n",
        "    if isinstance(m, nn.Conv2d):\n",
        "        nn.init.kaiming_normal_(m.weight, mode='fan_out', nonlinearity='relu')\n",
        "        if m.bias is not None:\n",
        "            nn.init.constant_(m.bias, 0)\n",
        "    elif isinstance(m, nn.BatchNorm2d):\n",
        "        nn.init.constant_(m.weight, 1)\n",
        "        nn.init.constant_(m.bias, 0)\n",
        "    elif isinstance(m, nn.Linear):\n",
        "        nn.init.normal_(m.weight, 0, 0.01)\n",
        "        if m.bias is not None:\n",
        "            nn.init.constant_(m.bias, 0)\n",
        "\n",
        "                   \n",
        "#     if isinstance(m, nn.Conv2d):\n",
        "#         n = m.kernel_size[0] * m.kernel_size[1] * m.out_channels\n",
        "#         m.weight.data.normal_(0, (2. / n)**.5)\n",
        "#     elif isinstance(m, nn.BatchNorm2d):\n",
        "#         m.weight.data.fill_(1)\n",
        "#         m.bias.data.zero_()\n",
        "        \n",
        "        \n",
        "#     if isinstance(m, nn.Conv2d) or isinstance(m, nn.Linear):\n",
        "#         import scipy.stats as stats\n",
        "#         X = stats.truncnorm(-2, 2, scale=0.01)\n",
        "#         values = torch.as_tensor(X.rvs(m.weight.numel()), dtype=m.weight.dtype)\n",
        "#         values = values.view(m.weight.size())\n",
        "#         with torch.no_grad():\n",
        "#             m.weight.copy_(values)\n",
        "#     elif isinstance(m, nn.BatchNorm2d):\n",
        "#         nn.init.constant_(m.weight, 1)\n",
        "#         nn.init.constant_(m.bias, 0)"
      ],
      "execution_count": 0,
      "outputs": []
    },
    {
      "cell_type": "code",
      "metadata": {
        "id": "aIXUwEYGaq8M",
        "colab_type": "code",
        "colab": {}
      },
      "source": [
        "\n",
        "class BasicBlock(nn.Module):\n",
        "  expansion = 1\n",
        "\n",
        "  def __init__(self, inplanes, planes, stride=1, downsample=None):\n",
        "    super(BasicBlock, self).__init__()\n",
        "    self.conv1 = conv3x3(inplanes, planes, stride)\n",
        "    self.bn1 = nn.BatchNorm2d(planes)\n",
        "    self.relu = nn.ReLU(inplace=True)\n",
        "    self.conv2 = conv3x3(planes, planes)\n",
        "    self.bn2 = nn.BatchNorm2d(planes)\n",
        "    self.downsample = downsample\n",
        "    self.stride = stride\n",
        "\n",
        "  def forward(self, x):\n",
        "    residual = x\n",
        "\n",
        "    out = self.conv1(x)\n",
        "    out = self.bn1(out)\n",
        "    out = self.relu(out)\n",
        "\n",
        "    out = self.conv2(out)\n",
        "    out = self.bn2(out)\n",
        "\n",
        "    if self.downsample is not None:\n",
        "        residual = self.downsample(x)\n",
        "\n",
        "    out += residual\n",
        "    out = self.relu(out)\n",
        "\n",
        "    return out\n",
        "  \n",
        "def resnet18(num_classes, hidden, n_layers):\n",
        "    \"\"\"Constructs a ResNet-18 model.\"\"\"\n",
        "    model = ResnetLSTM(BasicBlock, [2, 2, 2, 2], num_classes, hidden, n_layers)\n",
        "    return model    \n",
        "  \n",
        "  \n",
        "class ResnetLSTM(nn.Module):\n",
        "  def __init__(self, block, layers, num_classes, hidden, n_layers):\n",
        "    super(ResnetLSTM, self).__init__()\n",
        "    self.inplanes = 16\n",
        "    self.n_layers = n_layers\n",
        "\n",
        "    self.conv1 = nn.Conv2d(4, 16, kernel_size=7, stride=2, padding=3, bias=False)\n",
        "    self.bn1 = nn.BatchNorm2d(16)\n",
        "    self.relu = nn.ReLU(inplace=True)\n",
        "    self.maxpool = nn.MaxPool2d(kernel_size=3, stride=2, padding=1)\n",
        "    self.layer1 = self._make_layer(block, 32, layers[0])\n",
        "    self.layer2 = self._make_layer(block, 64, layers[1], stride=2)\n",
        "    self.layer3 = self._make_layer(block, 128, layers[2], stride=2)\n",
        "    self.layer4 = self._make_layer(block, 256, layers[3], stride=2)\n",
        "    self.avgpool = nn.AvgPool2d(7, stride=1, padding=2)\n",
        "    self.fc = nn.Linear((256*2*3) * block.expansion, num_classes)\n",
        "    \n",
        "    #all_features = hidden*2 + width * height * channel\n",
        "    all_features = 1544\n",
        "    self.linearFt = nn.Linear(all_features, hidden)\n",
        "    self.linearIt = nn.Linear(all_features, hidden)\n",
        "    self.linearCt1 = nn.Linear(all_features, hidden)\n",
        "    self.linearOt = nn.Linear(all_features, hidden)\n",
        "    self.linearO = nn.Linear(50, num_classes)\n",
        "    self.drop = nn.Dropout(p=0.50)\n",
        "    self.softmax = nn.LogSoftmax(dim=1)\n",
        "\n",
        "    self.linear1 = nn.Linear(all_features, 300)\n",
        "    self.norm1 = nn.BatchNorm2d(300)\n",
        "    self.linear2 = nn.Linear(300, 150)\n",
        "    self.norm2 = nn.BatchNorm2d(150)\n",
        "    self.linear3 = nn.Linear(150, 50)\n",
        "    self.norm3 = nn.BatchNorm2d(50)\n",
        "\n",
        "\n",
        "  def _make_layer(self, block, planes, blocks, stride=1):\n",
        "    downsample = None\n",
        "    if stride != 1 or self.inplanes != planes * block.expansion:\n",
        "        downsample = nn.Sequential(\n",
        "            nn.Conv2d(self.inplanes, planes * block.expansion,\n",
        "                      kernel_size=1, stride=stride, bias=False),\n",
        "            nn.BatchNorm2d(planes * block.expansion),\n",
        "        )\n",
        "\n",
        "    layers = []\n",
        "    layers.append(block(self.inplanes, planes, stride, downsample))\n",
        "    self.inplanes = planes * block.expansion\n",
        "    for i in range(1, blocks):\n",
        "        layers.append(block(self.inplanes, planes))\n",
        "\n",
        "    return nn.Sequential(*layers)\n",
        "\n",
        "\n",
        "\n",
        "  def forward(self, x, h, c):\n",
        "    \n",
        "    x = self.conv1(x)\n",
        "    x = self.bn1(x)\n",
        "    x = self.relu(x)\n",
        "    x = self.maxpool(x)\n",
        "\n",
        "    x = F.dropout(x)\n",
        "\n",
        "    x = self.layer1(x)\n",
        "    x = F.dropout(x)\n",
        "    x = self.layer2(x)\n",
        "    x = F.dropout(x)\n",
        "    x = self.layer3(x)\n",
        "    x = F.dropout(x)\n",
        "    x = self.layer4(x)\n",
        "\n",
        "    x = self.avgpool(x)\n",
        "    x = F.dropout(x)\n",
        "    #print(x.size())\n",
        "    x = x.view(x.size(0), -1)\n",
        "        \n",
        "    #x = x.view(1, -1)\n",
        "    for n in range(self.n_layers):\n",
        "      combined = torch.cat((x, h), 1)\n",
        "      #print('combined: ', combined.size())\n",
        "      ft = torch.sigmoid(self.linearFt(combined))\n",
        "      it = torch.sigmoid(self.linearIt(combined))\n",
        "      ct1 = torch.tanh(self.linearCt1(combined))\n",
        "      c = (ft*c) + (it * ct1)\n",
        "      #c = (ft*c) + (1-ft) * ct1\n",
        "      #c = self.drop(c)\n",
        "\n",
        "      ot = torch.sigmoid(self.linearOt(combined))\n",
        "      h = ot * torch.tanh(c)\n",
        "      #h = self.drop(h)\n",
        "\n",
        "    out = self.linear1(combined)\n",
        "    out = torch.relu(out)\n",
        "    out = self.linear2(out)\n",
        "    out = torch.relu(out)\n",
        "    out = self.linear3(out)\n",
        "    out = torch.relu(out)\n",
        "    out = self.softmax(self.linearO(out))\n",
        "    \n",
        "    return out, h, c\n",
        "\n",
        "\n"
      ],
      "execution_count": 0,
      "outputs": []
    },
    {
      "cell_type": "code",
      "metadata": {
        "id": "p1r8_G-vsA8Q",
        "colab_type": "code",
        "colab": {
          "base_uri": "https://localhost:8080/",
          "height": 340
        },
        "outputId": "523beaa4-8ee0-4d5d-cb09-fade8fd39226"
      },
      "source": [
        "windows = 6\n",
        "input_size = 1\n",
        "hidden = 8\n",
        "n_layers = 1\n",
        "K = 3\n",
        "epochs = 5000\n",
        "train_loss = []\n",
        "test_loss = []\n",
        "\n",
        "#model = LSTM(hidden, K, input_size, n_layers, 50, 75, 512)\n",
        "model = resnet18(K, hidden, n_layers)\n",
        "model.apply(init_weights)\n",
        "model.cuda()\n",
        "loss_fn = nn.NLLLoss()\n",
        "optimizer = torch.optim.RMSprop(model.parameters(), lr=0.001, weight_decay=0.999, momentum=0.1)\n",
        "lambda1 = lambda epoch: epochs // 30\n",
        "#lambda2 = lambda epoch: 0.95 ** epochs\n",
        "#scheduler = torch.optim.lr_scheduler.LambdaLR(optimizer, lr_lambda=[lambda1])\n",
        "#scheduler = torch.optim.lr_scheduler.MultiStepLR(optimizer, milestones=[50, 200, 400, 800, 1600, 3200, 6400], gamma=0.1)\n",
        "#scheduler = torch.optim.lr_scheduler.StepLR(optimizer, step_size=5, gamma=0.1)\n",
        "scheduler = torch.optim.lr_scheduler.ReduceLROnPlateau(optimizer, 'min')\n",
        "#N = len(x_train)-(windows+1)\n",
        "\n",
        "batch_size = 1\n",
        "#N = int(len(x_train) - windows/batch_size)\n",
        "N = len(x_train) - windows\n",
        "#n_batch = int(N / batch_size)\n",
        "n_batch = 32\n",
        "best_acc = 0.0\n",
        "best_rr = 0.0\n",
        "print('n batch: ', n_batch)\n",
        "for e in range(epochs):\n",
        "    model.train()\n",
        "    running_loss = 0.0\n",
        "    testing_loss = 0.0\n",
        "    for i in range(n_batch):\n",
        "      optimizer.zero_grad()\n",
        "      batch_loss = 0.0\n",
        "      #y_train_true = torch.empty(batch_size, dtype=torch.long, device='cuda')\n",
        "      #logits = torch.empty(batch_size, dtype=torch.float32, device='cuda')\n",
        "\n",
        "      for j in range(batch_size):\n",
        "        start = np.random.randint(1, len(x_train) - windows -10)\n",
        "        end = start + windows\n",
        "        #start = i*batch_size + j\n",
        "        #end = i*batch_size + j + windows\n",
        "        inputs = x_train[start:end]      \n",
        "        \n",
        "        y = y_train[end - 1]\n",
        "        y_tensor = torch.tensor(np.array([y]), dtype=torch.long).cuda()\n",
        "        h = torch.zeros([1, hidden], dtype=torch.float32).cuda()\n",
        "        c = torch.zeros([1, hidden], dtype=torch.float32).cuda()\n",
        "\n",
        "        for w in range(windows):\n",
        "          if len(inputs[w].shape) < 3:\n",
        "            print(inputs[w].shape)\n",
        "            print(index, ' ', index+windows)\n",
        "          x_tmp = inputs[w].reshape(1, 100, 150, 4)\n",
        "          xt = np.transpose(x_tmp, (0, 3, 1, 2))\n",
        "          x = torch.tensor(xt, dtype=torch.float32).cuda()\n",
        "          out, h, c = model(x, h, c)\n",
        "        \n",
        "        #print('logits: ', out.cpu().detach().numpy()[0])\n",
        "        # logits[j] = out.detach()\n",
        "        # y_train_true[j] = y_tensor\n",
        "\n",
        "        if j == 0:\n",
        "          logits = out\n",
        "          y_true = y_tensor\n",
        "        else:\n",
        "          logits = torch.cat((logits, out), 0)\n",
        "          y_true = torch.cat((y_true, y_tensor))\n",
        "        # print(j, ' ', y)\n",
        "        # print(y_true)\n",
        "        #loss += loss_fn(out, y_tensor.unsqueeze(0))\n",
        "\n",
        "      # logits_tensor = torch.tensor(logits, dtype=torch.float32).cuda()\n",
        "      # y_train_true_tensor = torch.tensor(y_train_true, dtype=torch.long).cuda()\n",
        "      #print('end batch')\n",
        "      loss = loss_fn(logits, y_true)\n",
        "\n",
        "      #print('before backward: ', loss.item())\n",
        "      #print(logits_tensor.size())\n",
        "      #print(y_train_true_tensor.size())\n",
        "     \n",
        "      running_loss += loss.item() / n_batch\n",
        "      loss.backward()\n",
        "      optimizer.step()\n",
        "        \n",
        "    #print('end n_batch computing running loss')\n",
        "    train_loss.append(running_loss)\n",
        "\n",
        "    model.eval()\n",
        "    y_true = list()\n",
        "    y_pred = list()\n",
        "    #test_count = len(x_test) - windows\n",
        "    test_count = 100\n",
        "\n",
        "    for j in range(test_count):\n",
        "        index = np.random.randint(1, len(x_test) - windows -10)\n",
        "        #index = j\n",
        "        #print('index: ', index)\n",
        "        h = torch.zeros([1, hidden], dtype=torch.float32).cuda()\n",
        "        c = torch.zeros([1, hidden], dtype=torch.float32).cuda()\n",
        "        \n",
        "        inputs = x_test[index:index+windows]\n",
        "        y = y_test[(index+windows)-1]\n",
        "        y_tensor = torch.tensor(y, dtype=torch.long).cuda()\n",
        "\n",
        "        if len(inputs) != windows:\n",
        "          print('len invalid!')\n",
        "          quit()\n",
        "        for w in range(len(inputs)):\n",
        "            if len(inputs[w].shape) < 3:\n",
        "              print(inputs[w].shape)\n",
        "              print(index, ' ', index+windows)\n",
        "            xt = np.transpose(x_tmp, (0, 3, 1, 2))\n",
        "            x = torch.tensor(xt, dtype=torch.float32).cuda()\n",
        "            out, h, c = model(x, h, c)\n",
        "\n",
        "        loss = loss_fn(out, y_tensor.unsqueeze(0))\n",
        "        testing_loss += loss.item()\n",
        "\n",
        "        y_pred.append(out.cpu().detach().numpy().argmax(1)[0])\n",
        "        y_true.append(y)\n",
        "    \n",
        "    avg_loss = testing_loss / test_count\n",
        "    test_loss.append(avg_loss)\n",
        "    scheduler.step(avg_loss)\n",
        "    \n",
        "    rr, pred_0, pred_2 = calScore(y_true, y_pred, e)\n",
        "    if e % 10 == 0:\n",
        "      print(e, ' Train Loss: ', running_loss, ' Test Loss: ', avg_loss)\n",
        "    if rr > best_rr and np.max(pred_0) ==1 and np.min(pred_2) == 1:\n",
        "        best_rr = rr\n",
        "        torch.save(model.state_dict(), '/content/drive/My Drive/Colab Notebooks/torch_CNN_LSTM' + symbol + '_' + timeframe)\n",
        "        print('saved!')"
      ],
      "execution_count": 0,
      "outputs": [
        {
          "output_type": "stream",
          "text": [
            "n batch:  32\n",
            "Trade acc0:  0\n",
            "acc0 win:  0\n",
            "acc0 loss:  0\n",
            "------\n",
            "Trade acc2:  0\n",
            "acc2 win:  0\n",
            "acc2 loss:  0\n",
            "------\n",
            "Trade acc1:  0\n",
            "acc1 loss:  0\n",
            "------\n",
            "total trade:  0\n",
            "rr:  0.0\n",
            "win rate:  0.0\n",
            "loss rate: 0.0\n",
            "pred_0 max:  1\n",
            "pred_2 min:  1\n",
            "0  Train Loss:  1.0899166651070118  Test Loss:  1.0696999502182007\n"
          ],
          "name": "stdout"
        }
      ]
    },
    {
      "cell_type": "code",
      "metadata": {
        "id": "V1tKxr2nyyu9",
        "colab_type": "code",
        "outputId": "c704bf27-12ce-436a-f185-a500ef18fe38",
        "colab": {
          "base_uri": "https://localhost:8080/",
          "height": 368
        }
      },
      "source": [
        "windows = 6\n",
        "input_size = 1\n",
        "hidden = 8\n",
        "n_layers = 1\n",
        "K = 3\n",
        "epochs = 5000\n",
        "train_loss = []\n",
        "test_loss = []\n",
        "\n",
        "#model = LSTM(hidden, K, input_size, n_layers, 50, 75, 512)\n",
        "model = resnet18(K)\n",
        "model.apply(init_weights)\n",
        "model.cuda()\n",
        "loss_fn = nn.NLLLoss()\n",
        "optimizer = torch.optim.RMSprop(model.parameters(), lr=0.001, weight_decay=0.999, momentum=0.1)\n",
        "lambda1 = lambda epoch: epochs // 30\n",
        "#lambda2 = lambda epoch: 0.95 ** epochs\n",
        "#scheduler = torch.optim.lr_scheduler.LambdaLR(optimizer, lr_lambda=[lambda1])\n",
        "#scheduler = torch.optim.lr_scheduler.MultiStepLR(optimizer, milestones=[50, 200, 400, 800, 1600, 3200, 6400], gamma=0.1)\n",
        "#scheduler = torch.optim.lr_scheduler.StepLR(optimizer, step_size=5, gamma=0.1)\n",
        "scheduler = torch.optim.lr_scheduler.ReduceLROnPlateau(optimizer, 'min')\n",
        "#N = len(x_train)-(windows+1)\n",
        "\n",
        "batch_size = 32\n",
        "#N = int(len(x_train) - windows/batch_size)\n",
        "N = len(x_train) - windows\n",
        "#n_batch = int(N / batch_size)\n",
        "n_batch = 32\n",
        "best_acc = 0.0\n",
        "best_rr = 0.0\n",
        "print('n batch: ', n_batch)\n",
        "for e in range(epochs):\n",
        "    model.train()\n",
        "    running_loss = 0.0\n",
        "    testing_loss = 0.0\n",
        "    for i in range(n_batch):\n",
        "      optimizer.zero_grad()\n",
        "      batch_loss = 0.0\n",
        "      #y_train_true = torch.empty(batch_size, dtype=torch.long, device='cuda')\n",
        "      #logits = torch.empty(batch_size, dtype=torch.float32, device='cuda')\n",
        "\n",
        "      for j in range(batch_size):\n",
        "        start = np.random.randint(1, len(x_train) - windows -10)\n",
        "        end = start + windows\n",
        "        #start = i*batch_size + j\n",
        "        #end = i*batch_size + j + windows\n",
        "        inputs = x_train[start:end]      \n",
        "        \n",
        "        y = y_train[end - 1]\n",
        "        y_tensor = torch.tensor(np.array([y]), dtype=torch.long).cuda()\n",
        "        h = torch.zeros([1, hidden], dtype=torch.float32).cuda()\n",
        "        c = torch.zeros([1, hidden], dtype=torch.float32).cuda()\n",
        "\n",
        "        for w in range(windows):\n",
        "          if len(inputs[w].shape) < 3:\n",
        "            print(inputs[w].shape)\n",
        "            print(index, ' ', index+windows)\n",
        "          x_tmp = inputs[w].reshape(1, 100, 150, 4)\n",
        "          xt = np.transpose(x_tmp, (0, 3, 1, 2))\n",
        "          x = torch.tensor(xt, dtype=torch.float32).cuda()\n",
        "          out, h, c = model(x, h, c)\n",
        "        \n",
        "        #print('logits: ', out.cpu().detach().numpy()[0])\n",
        "        # logits[j] = out.detach()\n",
        "        # y_train_true[j] = y_tensor\n",
        "\n",
        "        if j == 0:\n",
        "          logits = out\n",
        "          y_true = y_tensor\n",
        "        else:\n",
        "          logits = torch.cat((logits, out), 0)\n",
        "          y_true = torch.cat((y_true, y_tensor))\n",
        "        # print(j, ' ', y)\n",
        "        # print(y_true)\n",
        "        #loss += loss_fn(out, y_tensor.unsqueeze(0))\n",
        "\n",
        "      # logits_tensor = torch.tensor(logits, dtype=torch.float32).cuda()\n",
        "      # y_train_true_tensor = torch.tensor(y_train_true, dtype=torch.long).cuda()\n",
        "      #print('end batch')\n",
        "      loss = loss_fn(logits, y_true)\n",
        "\n",
        "      #print('before backward: ', loss.item())\n",
        "      #print(logits_tensor.size())\n",
        "      #print(y_train_true_tensor.size())\n",
        "     \n",
        "      running_loss += loss.item() / n_batch\n",
        "      loss.backward()\n",
        "      optimizer.step()\n",
        "        \n",
        "    #print('end n_batch computing running loss')\n",
        "    train_loss.append(running_loss)\n",
        "\n",
        "    model.eval()\n",
        "    y_true = list()\n",
        "    y_pred = list()\n",
        "    #test_count = len(x_test) - windows\n",
        "    test_count = 100\n",
        "\n",
        "    for j in range(test_count):\n",
        "        index = np.random.randint(1, len(x_test) - windows -10)\n",
        "        #index = j\n",
        "        #print('index: ', index)\n",
        "        h = torch.zeros([1, hidden], dtype=torch.float32).cuda()\n",
        "        c = torch.zeros([1, hidden], dtype=torch.float32).cuda()\n",
        "        \n",
        "        inputs = x_test[index:index+windows]\n",
        "        y = y_test[(index+windows)-1]\n",
        "        y_tensor = torch.tensor(y, dtype=torch.long).cuda()\n",
        "\n",
        "        if len(inputs) != windows:\n",
        "          print('len invalid!')\n",
        "          quit()\n",
        "        for w in range(len(inputs)):\n",
        "            if len(inputs[w].shape) < 3:\n",
        "              print(inputs[w].shape)\n",
        "              print(index, ' ', index+windows)\n",
        "            xt = np.transpose(x_tmp, (0, 3, 1, 2))\n",
        "            x = torch.tensor(xt, dtype=torch.float32).cuda()\n",
        "            out, h, c = model(x, h, c)\n",
        "\n",
        "        loss = loss_fn(out, y_tensor.unsqueeze(0))\n",
        "        testing_loss += loss.item()\n",
        "\n",
        "        y_pred.append(out.cpu().detach().numpy().argmax(1)[0])\n",
        "        y_true.append(y)\n",
        "    \n",
        "    avg_loss = testing_loss / test_count\n",
        "    test_loss.append(avg_loss)\n",
        "    scheduler.step(avg_loss)\n",
        "    \n",
        "    rr, pred_0, pred_2 = calScore(y_true, y_pred, e)\n",
        "    if e % 10 == 0:\n",
        "      print(e, ' Train Loss: ', running_loss, ' Test Loss: ', avg_loss)\n",
        "    if rr > best_rr and np.max(pred_0) ==1 and np.min(pred_2) == 1:\n",
        "        best_rr = rr\n",
        "        torch.save(model.state_dict(), '/content/drive/My Drive/Colab Notebooks/torch_CNN_LSTM' + symbol + '_' + timeframe)\n",
        "        print('saved!')"
      ],
      "execution_count": 23,
      "outputs": [
        {
          "output_type": "stream",
          "text": [
            "n batch:  32\n"
          ],
          "name": "stdout"
        },
        {
          "output_type": "error",
          "ename": "TypeError",
          "evalue": "ignored",
          "traceback": [
            "\u001b[0;31m---------------------------------------------------------------------------\u001b[0m",
            "\u001b[0;31mTypeError\u001b[0m                                 Traceback (most recent call last)",
            "\u001b[0;32m<ipython-input-23-692638926417>\u001b[0m in \u001b[0;36m<module>\u001b[0;34m()\u001b[0m\n\u001b[1;32m     59\u001b[0m           \u001b[0mxt\u001b[0m \u001b[0;34m=\u001b[0m \u001b[0mnp\u001b[0m\u001b[0;34m.\u001b[0m\u001b[0mtranspose\u001b[0m\u001b[0;34m(\u001b[0m\u001b[0mx_tmp\u001b[0m\u001b[0;34m,\u001b[0m \u001b[0;34m(\u001b[0m\u001b[0;36m0\u001b[0m\u001b[0;34m,\u001b[0m \u001b[0;36m3\u001b[0m\u001b[0;34m,\u001b[0m \u001b[0;36m1\u001b[0m\u001b[0;34m,\u001b[0m \u001b[0;36m2\u001b[0m\u001b[0;34m)\u001b[0m\u001b[0;34m)\u001b[0m\u001b[0;34m\u001b[0m\u001b[0;34m\u001b[0m\u001b[0m\n\u001b[1;32m     60\u001b[0m           \u001b[0mx\u001b[0m \u001b[0;34m=\u001b[0m \u001b[0mtorch\u001b[0m\u001b[0;34m.\u001b[0m\u001b[0mtensor\u001b[0m\u001b[0;34m(\u001b[0m\u001b[0mxt\u001b[0m\u001b[0;34m,\u001b[0m \u001b[0mdtype\u001b[0m\u001b[0;34m=\u001b[0m\u001b[0mtorch\u001b[0m\u001b[0;34m.\u001b[0m\u001b[0mfloat32\u001b[0m\u001b[0;34m)\u001b[0m\u001b[0;34m.\u001b[0m\u001b[0mcuda\u001b[0m\u001b[0;34m(\u001b[0m\u001b[0;34m)\u001b[0m\u001b[0;34m\u001b[0m\u001b[0;34m\u001b[0m\u001b[0m\n\u001b[0;32m---> 61\u001b[0;31m           \u001b[0mout\u001b[0m\u001b[0;34m,\u001b[0m \u001b[0mh\u001b[0m\u001b[0;34m,\u001b[0m \u001b[0mc\u001b[0m \u001b[0;34m=\u001b[0m \u001b[0mmodel\u001b[0m\u001b[0;34m(\u001b[0m\u001b[0mx\u001b[0m\u001b[0;34m,\u001b[0m \u001b[0mh\u001b[0m\u001b[0;34m,\u001b[0m \u001b[0mc\u001b[0m\u001b[0;34m)\u001b[0m\u001b[0;34m\u001b[0m\u001b[0;34m\u001b[0m\u001b[0m\n\u001b[0m\u001b[1;32m     62\u001b[0m \u001b[0;34m\u001b[0m\u001b[0m\n\u001b[1;32m     63\u001b[0m         \u001b[0;31m#print('logits: ', out.cpu().detach().numpy()[0])\u001b[0m\u001b[0;34m\u001b[0m\u001b[0;34m\u001b[0m\u001b[0;34m\u001b[0m\u001b[0m\n",
            "\u001b[0;32m/usr/local/lib/python3.6/dist-packages/torch/nn/modules/module.py\u001b[0m in \u001b[0;36m__call__\u001b[0;34m(self, *input, **kwargs)\u001b[0m\n\u001b[1;32m    491\u001b[0m             \u001b[0mresult\u001b[0m \u001b[0;34m=\u001b[0m \u001b[0mself\u001b[0m\u001b[0;34m.\u001b[0m\u001b[0m_slow_forward\u001b[0m\u001b[0;34m(\u001b[0m\u001b[0;34m*\u001b[0m\u001b[0minput\u001b[0m\u001b[0;34m,\u001b[0m \u001b[0;34m**\u001b[0m\u001b[0mkwargs\u001b[0m\u001b[0;34m)\u001b[0m\u001b[0;34m\u001b[0m\u001b[0;34m\u001b[0m\u001b[0m\n\u001b[1;32m    492\u001b[0m         \u001b[0;32melse\u001b[0m\u001b[0;34m:\u001b[0m\u001b[0;34m\u001b[0m\u001b[0;34m\u001b[0m\u001b[0m\n\u001b[0;32m--> 493\u001b[0;31m             \u001b[0mresult\u001b[0m \u001b[0;34m=\u001b[0m \u001b[0mself\u001b[0m\u001b[0;34m.\u001b[0m\u001b[0mforward\u001b[0m\u001b[0;34m(\u001b[0m\u001b[0;34m*\u001b[0m\u001b[0minput\u001b[0m\u001b[0;34m,\u001b[0m \u001b[0;34m**\u001b[0m\u001b[0mkwargs\u001b[0m\u001b[0;34m)\u001b[0m\u001b[0;34m\u001b[0m\u001b[0;34m\u001b[0m\u001b[0m\n\u001b[0m\u001b[1;32m    494\u001b[0m         \u001b[0;32mfor\u001b[0m \u001b[0mhook\u001b[0m \u001b[0;32min\u001b[0m \u001b[0mself\u001b[0m\u001b[0;34m.\u001b[0m\u001b[0m_forward_hooks\u001b[0m\u001b[0;34m.\u001b[0m\u001b[0mvalues\u001b[0m\u001b[0;34m(\u001b[0m\u001b[0;34m)\u001b[0m\u001b[0;34m:\u001b[0m\u001b[0;34m\u001b[0m\u001b[0;34m\u001b[0m\u001b[0m\n\u001b[1;32m    495\u001b[0m             \u001b[0mhook_result\u001b[0m \u001b[0;34m=\u001b[0m \u001b[0mhook\u001b[0m\u001b[0;34m(\u001b[0m\u001b[0mself\u001b[0m\u001b[0;34m,\u001b[0m \u001b[0minput\u001b[0m\u001b[0;34m,\u001b[0m \u001b[0mresult\u001b[0m\u001b[0;34m)\u001b[0m\u001b[0;34m\u001b[0m\u001b[0;34m\u001b[0m\u001b[0m\n",
            "\u001b[0;31mTypeError\u001b[0m: forward() takes 2 positional arguments but 4 were given"
          ]
        }
      ]
    },
    {
      "cell_type": "code",
      "metadata": {
        "id": "djluC5dLbzin",
        "colab_type": "code",
        "outputId": "ddc29aa6-67f1-49a5-db93-acf56c2fde42",
        "colab": {
          "base_uri": "https://localhost:8080/",
          "height": 34
        }
      },
      "source": [
        "y"
      ],
      "execution_count": 0,
      "outputs": [
        {
          "output_type": "execute_result",
          "data": {
            "text/plain": [
              "[]"
            ]
          },
          "metadata": {
            "tags": []
          },
          "execution_count": 28
        }
      ]
    },
    {
      "cell_type": "code",
      "metadata": {
        "id": "WO4kZ2sNPgYS",
        "colab_type": "code",
        "outputId": "5dbabb22-e66d-4fe3-df07-5befcc3214d2",
        "colab": {
          "base_uri": "https://localhost:8080/",
          "height": 817
        }
      },
      "source": [
        "xt = np.transpose(x_test , (0, 3, 1, 2))\n",
        "xt_tensor = torch.tensor(xt, dtype=torch.float32).cuda()\n",
        "h = torch.zeros([1, hidden], dtype=torch.float32).cuda()\n",
        "c = torch.zeros([1, hidden], dtype=torch.float32).cuda()\n",
        "\n",
        "pred = model(xt_tensor, h, c)"
      ],
      "execution_count": 0,
      "outputs": [
        {
          "output_type": "error",
          "ename": "RuntimeError",
          "evalue": "ignored",
          "traceback": [
            "\u001b[0;31m---------------------------------------------------------------------------\u001b[0m",
            "\u001b[0;31mRuntimeError\u001b[0m                              Traceback (most recent call last)",
            "\u001b[0;32m<ipython-input-53-758187c419bf>\u001b[0m in \u001b[0;36m<module>\u001b[0;34m()\u001b[0m\n\u001b[1;32m      4\u001b[0m \u001b[0mh\u001b[0m \u001b[0;34m=\u001b[0m \u001b[0mtorch\u001b[0m\u001b[0;34m.\u001b[0m\u001b[0mzeros\u001b[0m\u001b[0;34m(\u001b[0m\u001b[0;34m[\u001b[0m\u001b[0;36m1\u001b[0m\u001b[0;34m,\u001b[0m \u001b[0mhidden\u001b[0m\u001b[0;34m]\u001b[0m\u001b[0;34m,\u001b[0m \u001b[0mdtype\u001b[0m\u001b[0;34m=\u001b[0m\u001b[0mtorch\u001b[0m\u001b[0;34m.\u001b[0m\u001b[0mfloat32\u001b[0m\u001b[0;34m)\u001b[0m\u001b[0;34m.\u001b[0m\u001b[0mcuda\u001b[0m\u001b[0;34m(\u001b[0m\u001b[0;34m)\u001b[0m\u001b[0;34m\u001b[0m\u001b[0;34m\u001b[0m\u001b[0m\n\u001b[1;32m      5\u001b[0m \u001b[0mc\u001b[0m \u001b[0;34m=\u001b[0m \u001b[0mtorch\u001b[0m\u001b[0;34m.\u001b[0m\u001b[0mzeros\u001b[0m\u001b[0;34m(\u001b[0m\u001b[0;34m[\u001b[0m\u001b[0;36m1\u001b[0m\u001b[0;34m,\u001b[0m \u001b[0mhidden\u001b[0m\u001b[0;34m]\u001b[0m\u001b[0;34m,\u001b[0m \u001b[0mdtype\u001b[0m\u001b[0;34m=\u001b[0m\u001b[0mtorch\u001b[0m\u001b[0;34m.\u001b[0m\u001b[0mfloat32\u001b[0m\u001b[0;34m)\u001b[0m\u001b[0;34m.\u001b[0m\u001b[0mcuda\u001b[0m\u001b[0;34m(\u001b[0m\u001b[0;34m)\u001b[0m\u001b[0;34m\u001b[0m\u001b[0;34m\u001b[0m\u001b[0m\n\u001b[0;32m----> 6\u001b[0;31m \u001b[0mpred\u001b[0m \u001b[0;34m=\u001b[0m \u001b[0mmodel\u001b[0m\u001b[0;34m(\u001b[0m\u001b[0mxt_tensor\u001b[0m\u001b[0;34m,\u001b[0m \u001b[0mh\u001b[0m\u001b[0;34m,\u001b[0m \u001b[0mc\u001b[0m\u001b[0;34m)\u001b[0m\u001b[0;34m\u001b[0m\u001b[0;34m\u001b[0m\u001b[0m\n\u001b[0m",
            "\u001b[0;32m/usr/local/lib/python3.6/dist-packages/torch/nn/modules/module.py\u001b[0m in \u001b[0;36m__call__\u001b[0;34m(self, *input, **kwargs)\u001b[0m\n\u001b[1;32m    491\u001b[0m             \u001b[0mresult\u001b[0m \u001b[0;34m=\u001b[0m \u001b[0mself\u001b[0m\u001b[0;34m.\u001b[0m\u001b[0m_slow_forward\u001b[0m\u001b[0;34m(\u001b[0m\u001b[0;34m*\u001b[0m\u001b[0minput\u001b[0m\u001b[0;34m,\u001b[0m \u001b[0;34m**\u001b[0m\u001b[0mkwargs\u001b[0m\u001b[0;34m)\u001b[0m\u001b[0;34m\u001b[0m\u001b[0;34m\u001b[0m\u001b[0m\n\u001b[1;32m    492\u001b[0m         \u001b[0;32melse\u001b[0m\u001b[0;34m:\u001b[0m\u001b[0;34m\u001b[0m\u001b[0;34m\u001b[0m\u001b[0m\n\u001b[0;32m--> 493\u001b[0;31m             \u001b[0mresult\u001b[0m \u001b[0;34m=\u001b[0m \u001b[0mself\u001b[0m\u001b[0;34m.\u001b[0m\u001b[0mforward\u001b[0m\u001b[0;34m(\u001b[0m\u001b[0;34m*\u001b[0m\u001b[0minput\u001b[0m\u001b[0;34m,\u001b[0m \u001b[0;34m**\u001b[0m\u001b[0mkwargs\u001b[0m\u001b[0;34m)\u001b[0m\u001b[0;34m\u001b[0m\u001b[0;34m\u001b[0m\u001b[0m\n\u001b[0m\u001b[1;32m    494\u001b[0m         \u001b[0;32mfor\u001b[0m \u001b[0mhook\u001b[0m \u001b[0;32min\u001b[0m \u001b[0mself\u001b[0m\u001b[0;34m.\u001b[0m\u001b[0m_forward_hooks\u001b[0m\u001b[0;34m.\u001b[0m\u001b[0mvalues\u001b[0m\u001b[0;34m(\u001b[0m\u001b[0;34m)\u001b[0m\u001b[0;34m:\u001b[0m\u001b[0;34m\u001b[0m\u001b[0;34m\u001b[0m\u001b[0m\n\u001b[1;32m    495\u001b[0m             \u001b[0mhook_result\u001b[0m \u001b[0;34m=\u001b[0m \u001b[0mhook\u001b[0m\u001b[0;34m(\u001b[0m\u001b[0mself\u001b[0m\u001b[0;34m,\u001b[0m \u001b[0minput\u001b[0m\u001b[0;34m,\u001b[0m \u001b[0mresult\u001b[0m\u001b[0;34m)\u001b[0m\u001b[0;34m\u001b[0m\u001b[0;34m\u001b[0m\u001b[0m\n",
            "\u001b[0;32m<ipython-input-38-d74a87118009>\u001b[0m in \u001b[0;36mforward\u001b[0;34m(self, x, h, c)\u001b[0m\n\u001b[1;32m     66\u001b[0m       \u001b[0mcombined\u001b[0m \u001b[0;34m=\u001b[0m \u001b[0mtorch\u001b[0m\u001b[0;34m.\u001b[0m\u001b[0mcat\u001b[0m\u001b[0;34m(\u001b[0m\u001b[0;34m(\u001b[0m\u001b[0mx\u001b[0m\u001b[0;34m,\u001b[0m \u001b[0mh\u001b[0m\u001b[0;34m,\u001b[0m \u001b[0mc\u001b[0m\u001b[0;34m)\u001b[0m\u001b[0;34m,\u001b[0m \u001b[0;36m1\u001b[0m\u001b[0;34m)\u001b[0m\u001b[0;34m\u001b[0m\u001b[0;34m\u001b[0m\u001b[0m\n\u001b[1;32m     67\u001b[0m       \u001b[0;31m#print('combined: ', combined.size())\u001b[0m\u001b[0;34m\u001b[0m\u001b[0;34m\u001b[0m\u001b[0;34m\u001b[0m\u001b[0m\n\u001b[0;32m---> 68\u001b[0;31m       \u001b[0mft\u001b[0m \u001b[0;34m=\u001b[0m \u001b[0mtorch\u001b[0m\u001b[0;34m.\u001b[0m\u001b[0msigmoid\u001b[0m\u001b[0;34m(\u001b[0m\u001b[0mself\u001b[0m\u001b[0;34m.\u001b[0m\u001b[0mlinearFt\u001b[0m\u001b[0;34m(\u001b[0m\u001b[0mcombined\u001b[0m\u001b[0;34m)\u001b[0m\u001b[0;34m)\u001b[0m\u001b[0;34m\u001b[0m\u001b[0;34m\u001b[0m\u001b[0m\n\u001b[0m\u001b[1;32m     69\u001b[0m       \u001b[0mit\u001b[0m \u001b[0;34m=\u001b[0m \u001b[0mtorch\u001b[0m\u001b[0;34m.\u001b[0m\u001b[0msigmoid\u001b[0m\u001b[0;34m(\u001b[0m\u001b[0mself\u001b[0m\u001b[0;34m.\u001b[0m\u001b[0mlinearIt\u001b[0m\u001b[0;34m(\u001b[0m\u001b[0mcombined\u001b[0m\u001b[0;34m)\u001b[0m\u001b[0;34m)\u001b[0m\u001b[0;34m\u001b[0m\u001b[0;34m\u001b[0m\u001b[0m\n\u001b[1;32m     70\u001b[0m       \u001b[0mct1\u001b[0m \u001b[0;34m=\u001b[0m \u001b[0mtorch\u001b[0m\u001b[0;34m.\u001b[0m\u001b[0mtanh\u001b[0m\u001b[0;34m(\u001b[0m\u001b[0mself\u001b[0m\u001b[0;34m.\u001b[0m\u001b[0mlinearCt1\u001b[0m\u001b[0;34m(\u001b[0m\u001b[0mcombined\u001b[0m\u001b[0;34m)\u001b[0m\u001b[0;34m)\u001b[0m\u001b[0;34m\u001b[0m\u001b[0;34m\u001b[0m\u001b[0m\n",
            "\u001b[0;32m/usr/local/lib/python3.6/dist-packages/torch/nn/modules/module.py\u001b[0m in \u001b[0;36m__call__\u001b[0;34m(self, *input, **kwargs)\u001b[0m\n\u001b[1;32m    491\u001b[0m             \u001b[0mresult\u001b[0m \u001b[0;34m=\u001b[0m \u001b[0mself\u001b[0m\u001b[0;34m.\u001b[0m\u001b[0m_slow_forward\u001b[0m\u001b[0;34m(\u001b[0m\u001b[0;34m*\u001b[0m\u001b[0minput\u001b[0m\u001b[0;34m,\u001b[0m \u001b[0;34m**\u001b[0m\u001b[0mkwargs\u001b[0m\u001b[0;34m)\u001b[0m\u001b[0;34m\u001b[0m\u001b[0;34m\u001b[0m\u001b[0m\n\u001b[1;32m    492\u001b[0m         \u001b[0;32melse\u001b[0m\u001b[0;34m:\u001b[0m\u001b[0;34m\u001b[0m\u001b[0;34m\u001b[0m\u001b[0m\n\u001b[0;32m--> 493\u001b[0;31m             \u001b[0mresult\u001b[0m \u001b[0;34m=\u001b[0m \u001b[0mself\u001b[0m\u001b[0;34m.\u001b[0m\u001b[0mforward\u001b[0m\u001b[0;34m(\u001b[0m\u001b[0;34m*\u001b[0m\u001b[0minput\u001b[0m\u001b[0;34m,\u001b[0m \u001b[0;34m**\u001b[0m\u001b[0mkwargs\u001b[0m\u001b[0;34m)\u001b[0m\u001b[0;34m\u001b[0m\u001b[0;34m\u001b[0m\u001b[0m\n\u001b[0m\u001b[1;32m    494\u001b[0m         \u001b[0;32mfor\u001b[0m \u001b[0mhook\u001b[0m \u001b[0;32min\u001b[0m \u001b[0mself\u001b[0m\u001b[0;34m.\u001b[0m\u001b[0m_forward_hooks\u001b[0m\u001b[0;34m.\u001b[0m\u001b[0mvalues\u001b[0m\u001b[0;34m(\u001b[0m\u001b[0;34m)\u001b[0m\u001b[0;34m:\u001b[0m\u001b[0;34m\u001b[0m\u001b[0;34m\u001b[0m\u001b[0m\n\u001b[1;32m    495\u001b[0m             \u001b[0mhook_result\u001b[0m \u001b[0;34m=\u001b[0m \u001b[0mhook\u001b[0m\u001b[0;34m(\u001b[0m\u001b[0mself\u001b[0m\u001b[0;34m,\u001b[0m \u001b[0minput\u001b[0m\u001b[0;34m,\u001b[0m \u001b[0mresult\u001b[0m\u001b[0;34m)\u001b[0m\u001b[0;34m\u001b[0m\u001b[0;34m\u001b[0m\u001b[0m\n",
            "\u001b[0;32m/usr/local/lib/python3.6/dist-packages/torch/nn/modules/linear.py\u001b[0m in \u001b[0;36mforward\u001b[0;34m(self, input)\u001b[0m\n\u001b[1;32m     90\u001b[0m     \u001b[0;34m@\u001b[0m\u001b[0mweak_script_method\u001b[0m\u001b[0;34m\u001b[0m\u001b[0;34m\u001b[0m\u001b[0m\n\u001b[1;32m     91\u001b[0m     \u001b[0;32mdef\u001b[0m \u001b[0mforward\u001b[0m\u001b[0;34m(\u001b[0m\u001b[0mself\u001b[0m\u001b[0;34m,\u001b[0m \u001b[0minput\u001b[0m\u001b[0;34m)\u001b[0m\u001b[0;34m:\u001b[0m\u001b[0;34m\u001b[0m\u001b[0;34m\u001b[0m\u001b[0m\n\u001b[0;32m---> 92\u001b[0;31m         \u001b[0;32mreturn\u001b[0m \u001b[0mF\u001b[0m\u001b[0;34m.\u001b[0m\u001b[0mlinear\u001b[0m\u001b[0;34m(\u001b[0m\u001b[0minput\u001b[0m\u001b[0;34m,\u001b[0m \u001b[0mself\u001b[0m\u001b[0;34m.\u001b[0m\u001b[0mweight\u001b[0m\u001b[0;34m,\u001b[0m \u001b[0mself\u001b[0m\u001b[0;34m.\u001b[0m\u001b[0mbias\u001b[0m\u001b[0;34m)\u001b[0m\u001b[0;34m\u001b[0m\u001b[0;34m\u001b[0m\u001b[0m\n\u001b[0m\u001b[1;32m     93\u001b[0m \u001b[0;34m\u001b[0m\u001b[0m\n\u001b[1;32m     94\u001b[0m     \u001b[0;32mdef\u001b[0m \u001b[0mextra_repr\u001b[0m\u001b[0;34m(\u001b[0m\u001b[0mself\u001b[0m\u001b[0;34m)\u001b[0m\u001b[0;34m:\u001b[0m\u001b[0;34m\u001b[0m\u001b[0;34m\u001b[0m\u001b[0m\n",
            "\u001b[0;32m/usr/local/lib/python3.6/dist-packages/torch/nn/functional.py\u001b[0m in \u001b[0;36mlinear\u001b[0;34m(input, weight, bias)\u001b[0m\n\u001b[1;32m   1404\u001b[0m     \u001b[0;32mif\u001b[0m \u001b[0minput\u001b[0m\u001b[0;34m.\u001b[0m\u001b[0mdim\u001b[0m\u001b[0;34m(\u001b[0m\u001b[0;34m)\u001b[0m \u001b[0;34m==\u001b[0m \u001b[0;36m2\u001b[0m \u001b[0;32mand\u001b[0m \u001b[0mbias\u001b[0m \u001b[0;32mis\u001b[0m \u001b[0;32mnot\u001b[0m \u001b[0;32mNone\u001b[0m\u001b[0;34m:\u001b[0m\u001b[0;34m\u001b[0m\u001b[0;34m\u001b[0m\u001b[0m\n\u001b[1;32m   1405\u001b[0m         \u001b[0;31m# fused op is marginally faster\u001b[0m\u001b[0;34m\u001b[0m\u001b[0;34m\u001b[0m\u001b[0;34m\u001b[0m\u001b[0m\n\u001b[0;32m-> 1406\u001b[0;31m         \u001b[0mret\u001b[0m \u001b[0;34m=\u001b[0m \u001b[0mtorch\u001b[0m\u001b[0;34m.\u001b[0m\u001b[0maddmm\u001b[0m\u001b[0;34m(\u001b[0m\u001b[0mbias\u001b[0m\u001b[0;34m,\u001b[0m \u001b[0minput\u001b[0m\u001b[0;34m,\u001b[0m \u001b[0mweight\u001b[0m\u001b[0;34m.\u001b[0m\u001b[0mt\u001b[0m\u001b[0;34m(\u001b[0m\u001b[0;34m)\u001b[0m\u001b[0;34m)\u001b[0m\u001b[0;34m\u001b[0m\u001b[0;34m\u001b[0m\u001b[0m\n\u001b[0m\u001b[1;32m   1407\u001b[0m     \u001b[0;32melse\u001b[0m\u001b[0;34m:\u001b[0m\u001b[0;34m\u001b[0m\u001b[0;34m\u001b[0m\u001b[0m\n\u001b[1;32m   1408\u001b[0m         \u001b[0moutput\u001b[0m \u001b[0;34m=\u001b[0m \u001b[0minput\u001b[0m\u001b[0;34m.\u001b[0m\u001b[0mmatmul\u001b[0m\u001b[0;34m(\u001b[0m\u001b[0mweight\u001b[0m\u001b[0;34m.\u001b[0m\u001b[0mt\u001b[0m\u001b[0;34m(\u001b[0m\u001b[0;34m)\u001b[0m\u001b[0;34m)\u001b[0m\u001b[0;34m\u001b[0m\u001b[0;34m\u001b[0m\u001b[0m\n",
            "\u001b[0;31mRuntimeError\u001b[0m: size mismatch, m1: [1 x 510592], m2: [384 x 128] at /pytorch/aten/src/THC/generic/THCTensorMathBlas.cu:268"
          ]
        }
      ]
    },
    {
      "cell_type": "code",
      "metadata": {
        "id": "1rfN8WaKPiid",
        "colab_type": "code",
        "outputId": "2bc0a269-6b9d-4063-fde5-b4e6e5904349",
        "colab": {
          "base_uri": "https://localhost:8080/",
          "height": 34
        }
      },
      "source": [
        "a.shape"
      ],
      "execution_count": 0,
      "outputs": [
        {
          "output_type": "execute_result",
          "data": {
            "text/plain": [
              "(6, 100, 150, 4)"
            ]
          },
          "metadata": {
            "tags": []
          },
          "execution_count": 169
        }
      ]
    },
    {
      "cell_type": "code",
      "metadata": {
        "id": "arR_4Wnk55Gg",
        "colab_type": "code",
        "colab": {}
      },
      "source": [
        "|plt.plot(train_loss, label='Train')\n",
        "plt.plot(test_loss, label='Test')\n",
        "plt.legend()\n",
        "plt.show()"
      ],
      "execution_count": 0,
      "outputs": []
    },
    {
      "cell_type": "code",
      "metadata": {
        "id": "beaChE5uYFY4",
        "colab_type": "code",
        "outputId": "e985e9db-bc1e-40da-b184-96cefbcd6e4d",
        "colab": {
          "base_uri": "https://localhost:8080/",
          "height": 34
        }
      },
      "source": [
        "x_train.shape"
      ],
      "execution_count": 0,
      "outputs": [
        {
          "output_type": "execute_result",
          "data": {
            "text/plain": [
              "(116287, 21)"
            ]
          },
          "metadata": {
            "tags": []
          },
          "execution_count": 15
        }
      ]
    },
    {
      "cell_type": "code",
      "metadata": {
        "id": "wbqihV-4fkPm",
        "colab_type": "code",
        "outputId": "73fd2b7a-5247-4967-c592-12680d9124d0",
        "colab": {
          "base_uri": "https://localhost:8080/",
          "height": 130
        }
      },
      "source": [
        "  \n",
        "class GRU(nn.Module):\n",
        "  \n",
        "  def __init__(self, hidden, output_size, input_size, n_layers):\n",
        "    super(GRU, self).__init__()\n",
        "    \n",
        "    use_bias = True\n",
        "    self.n_layers = n_layers\n",
        "    \n",
        "    self.linearZt = nn.Linear(input_size + hidden, hidden, bias=use_bias)\n",
        "    self.linearRt = nn.Linear(input_size + hidden, hidden, bias=use_bias)\n",
        "    self.linearHt = nn.Linear(input_size + hidden, hidden, bias=use_bias)\n",
        "    \n",
        "    self.normH = nn.BatchNorm1d(input_size + hidden)\n",
        "    self.drop1 = nn.Dropout(p=0.50)\n",
        "    self.drop2 = nn.Dropout(p=0.25)\n",
        "    \n",
        "    self.linearO = nn.Linear(input_size + hidden, output_size, bias=use_bias)\n",
        "    self.normO = nn.BatchNorm1d(input_size + hidden)\n",
        "    \n",
        "    self.softmax = nn.LogSoftmax(dim=1)\n",
        "    \n",
        "  def forward(self, x, h):\n",
        "    \n",
        "    for n in range(self.n_layers):\n",
        "\n",
        "      combined = torch.cat((x, h), 1)\n",
        "      zt = torch.sigmoid(self.linearZt(combined))\n",
        "      zt = self.drop1(zt)\n",
        "      rt = torch.sigmoid(self.linearRt(combined))\n",
        "      rt = self.drop1(rt)\n",
        "      combined2 = torch.cat((x, rt*h), 1)\n",
        "      ht = torch.tanh(self.linearHt(combined2))\n",
        "      ht = self.drop1(ht)\n",
        "      h = (1-zt) * h + zt * ht\n",
        "      h = self.drop2(h)\n",
        "\n",
        "    out = self.linearO(combined)\n",
        "    out = self.softmax(out)\n",
        "  \n",
        "    return out, h\n"
      ],
      "execution_count": 29,
      "outputs": [
        {
          "output_type": "error",
          "ename": "IndentationError",
          "evalue": "ignored",
          "traceback": [
            "\u001b[0;36m  File \u001b[0;32m\"<ipython-input-29-7f7e1e425bbe>\"\u001b[0;36m, line \u001b[0;32m4\u001b[0m\n\u001b[0;31m    def __init__(self, hidden, output_size, input_size, n_layers):\u001b[0m\n\u001b[0m      ^\u001b[0m\n\u001b[0;31mIndentationError\u001b[0m\u001b[0;31m:\u001b[0m expected an indented block\n"
          ]
        }
      ]
    },
    {
      "cell_type": "code",
      "metadata": {
        "id": "cXERliPNSiTY",
        "colab_type": "code",
        "colab": {}
      },
      "source": [
        ""
      ],
      "execution_count": 0,
      "outputs": []
    }
  ]
}